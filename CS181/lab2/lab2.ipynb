{
 "cells": [
  {
   "cell_type": "markdown",
   "metadata": {},
   "source": [
    "Lab 2\n",
    "CS 181-01, Fall 2021 <br>\n",
    "Dr. Kell\n",
    "\n",
    "Before you turn in your submission, make sure everything runs as expected. First, restart the kernel (in the menubar, select Kernel → Restart) and then run all cells (in the menubar, select Cell → Run All). Make sure you fill in any place that says YOUR CODE HERE.\n",
    "\n",
    "This lab should be completed with a partner. You are free to work together as much as you like, but both of you will make seperate assignment submissions on Notebowl. The lab is due at tonight on Notebowl at 11:59pm (9/8/21). "
   ]
  },
  {
   "cell_type": "code",
   "execution_count": null,
   "metadata": {},
   "outputs": [],
   "source": [
    "# Put your and your partner's name here\n",
    "NAME = \"Wilson\"\n",
    "PARTNER = \"Riley\""
   ]
  },
  {
   "cell_type": "markdown",
   "metadata": {},
   "source": [
    "## Part 1 [10 points] \n",
    "Write code in the cell below that reads in the <code>topnames.csv</code> file and creates a list of lists LoL represenation of the table. Then, use the representation to construct a pandas data frame object and display the the last sixty lines in the table. Do not consult Chapter 3 in your textbook when writing your code (you may consult the example code from class or Chapters 6 and 7 on Pandas). Note that for LoL Data Frame constructor, you will need to manually set the column labels of Data Frame in the constructor. (See example on white board in-class)."
   ]
  },
  {
   "cell_type": "code",
   "execution_count": 3,
   "metadata": {
    "nbgrader": {
     "grade": false,
     "grade_id": "cell-20b4613ee391831a",
     "locked": false,
     "schema_version": 1,
     "solution": true
    }
   },
   "outputs": [
    {
     "output_type": "error",
     "ename": "ImportError",
     "evalue": "dlopen(/Users/wilsonle/Desktop/Code/Fall2021/venv/lib/python3.9/site-packages/pandas/_libs/interval.cpython-39-darwin.so, 2): no suitable image found.  Did find:\n\t/Users/wilsonle/Desktop/Code/Fall2021/venv/lib/python3.9/site-packages/pandas/_libs/interval.cpython-39-darwin.so: mach-o, but wrong architecture\n\t/Users/wilsonle/Desktop/Code/Fall2021/venv/lib/python3.9/site-packages/pandas/_libs/interval.cpython-39-darwin.so: mach-o, but wrong architecture",
     "traceback": [
      "\u001b[0;31m---------------------------------------------------------------------------\u001b[0m",
      "\u001b[0;31mImportError\u001b[0m                               Traceback (most recent call last)",
      "\u001b[0;32m/var/folders/44/_47bkq8d4y91k9kc4cqbr2wc0000gn/T/ipykernel_59547/2882292755.py\u001b[0m in \u001b[0;36m<module>\u001b[0;34m\u001b[0m\n\u001b[0;32m----> 1\u001b[0;31m \u001b[0;32mimport\u001b[0m \u001b[0mpandas\u001b[0m \u001b[0;32mas\u001b[0m \u001b[0mpd\u001b[0m\u001b[0;34m\u001b[0m\u001b[0;34m\u001b[0m\u001b[0m\n\u001b[0m\u001b[1;32m      2\u001b[0m \u001b[0;34m\u001b[0m\u001b[0m\n\u001b[1;32m      3\u001b[0m \u001b[0mfile\u001b[0m \u001b[0;34m=\u001b[0m \u001b[0mopen\u001b[0m\u001b[0;34m(\u001b[0m\u001b[0;34m\"topnames.csv\"\u001b[0m\u001b[0;34m,\u001b[0m \u001b[0;34m'r'\u001b[0m\u001b[0;34m)\u001b[0m\u001b[0;34m\u001b[0m\u001b[0;34m\u001b[0m\u001b[0m\n\u001b[1;32m      4\u001b[0m \u001b[0mcolumns\u001b[0m \u001b[0;34m=\u001b[0m \u001b[0mfile\u001b[0m\u001b[0;34m.\u001b[0m\u001b[0mreadline\u001b[0m\u001b[0;34m(\u001b[0m\u001b[0;34m)\u001b[0m\u001b[0;34m.\u001b[0m\u001b[0mstrip\u001b[0m\u001b[0;34m(\u001b[0m\u001b[0;34m)\u001b[0m\u001b[0;34m.\u001b[0m\u001b[0msplit\u001b[0m\u001b[0;34m(\u001b[0m\u001b[0;34m','\u001b[0m\u001b[0;34m)\u001b[0m    \u001b[0;31m# read first line\u001b[0m\u001b[0;34m\u001b[0m\u001b[0;34m\u001b[0m\u001b[0m\n\u001b[1;32m      5\u001b[0m \u001b[0mLoL\u001b[0m \u001b[0;34m=\u001b[0m \u001b[0;34m[\u001b[0m\u001b[0;34m]\u001b[0m\u001b[0;34m\u001b[0m\u001b[0;34m\u001b[0m\u001b[0m\n",
      "\u001b[0;32m~/Desktop/Code/Fall2021/venv/lib/python3.9/site-packages/pandas/__init__.py\u001b[0m in \u001b[0;36m<module>\u001b[0;34m\u001b[0m\n\u001b[1;32m     20\u001b[0m \u001b[0;34m\u001b[0m\u001b[0m\n\u001b[1;32m     21\u001b[0m \u001b[0;31m# numpy compat\u001b[0m\u001b[0;34m\u001b[0m\u001b[0;34m\u001b[0m\u001b[0;34m\u001b[0m\u001b[0m\n\u001b[0;32m---> 22\u001b[0;31m from pandas.compat import (\n\u001b[0m\u001b[1;32m     23\u001b[0m     \u001b[0mnp_version_under1p18\u001b[0m \u001b[0;32mas\u001b[0m \u001b[0m_np_version_under1p18\u001b[0m\u001b[0;34m,\u001b[0m\u001b[0;34m\u001b[0m\u001b[0;34m\u001b[0m\u001b[0m\n\u001b[1;32m     24\u001b[0m     \u001b[0mis_numpy_dev\u001b[0m \u001b[0;32mas\u001b[0m \u001b[0m_is_numpy_dev\u001b[0m\u001b[0;34m,\u001b[0m\u001b[0;34m\u001b[0m\u001b[0;34m\u001b[0m\u001b[0m\n",
      "\u001b[0;32m~/Desktop/Code/Fall2021/venv/lib/python3.9/site-packages/pandas/compat/__init__.py\u001b[0m in \u001b[0;36m<module>\u001b[0;34m\u001b[0m\n\u001b[1;32m     13\u001b[0m \u001b[0;34m\u001b[0m\u001b[0m\n\u001b[1;32m     14\u001b[0m \u001b[0;32mfrom\u001b[0m \u001b[0mpandas\u001b[0m\u001b[0;34m.\u001b[0m\u001b[0m_typing\u001b[0m \u001b[0;32mimport\u001b[0m \u001b[0mF\u001b[0m\u001b[0;34m\u001b[0m\u001b[0;34m\u001b[0m\u001b[0m\n\u001b[0;32m---> 15\u001b[0;31m from pandas.compat.numpy import (\n\u001b[0m\u001b[1;32m     16\u001b[0m     \u001b[0mis_numpy_dev\u001b[0m\u001b[0;34m,\u001b[0m\u001b[0;34m\u001b[0m\u001b[0;34m\u001b[0m\u001b[0m\n\u001b[1;32m     17\u001b[0m     \u001b[0mnp_array_datetime64_compat\u001b[0m\u001b[0;34m,\u001b[0m\u001b[0;34m\u001b[0m\u001b[0;34m\u001b[0m\u001b[0m\n",
      "\u001b[0;32m~/Desktop/Code/Fall2021/venv/lib/python3.9/site-packages/pandas/compat/numpy/__init__.py\u001b[0m in \u001b[0;36m<module>\u001b[0;34m\u001b[0m\n\u001b[1;32m      5\u001b[0m \u001b[0;32mimport\u001b[0m \u001b[0mnumpy\u001b[0m \u001b[0;32mas\u001b[0m \u001b[0mnp\u001b[0m\u001b[0;34m\u001b[0m\u001b[0;34m\u001b[0m\u001b[0m\n\u001b[1;32m      6\u001b[0m \u001b[0;34m\u001b[0m\u001b[0m\n\u001b[0;32m----> 7\u001b[0;31m \u001b[0;32mfrom\u001b[0m \u001b[0mpandas\u001b[0m\u001b[0;34m.\u001b[0m\u001b[0mutil\u001b[0m\u001b[0;34m.\u001b[0m\u001b[0mversion\u001b[0m \u001b[0;32mimport\u001b[0m \u001b[0mVersion\u001b[0m\u001b[0;34m\u001b[0m\u001b[0;34m\u001b[0m\u001b[0m\n\u001b[0m\u001b[1;32m      8\u001b[0m \u001b[0;34m\u001b[0m\u001b[0m\n\u001b[1;32m      9\u001b[0m \u001b[0;31m# numpy versioning\u001b[0m\u001b[0;34m\u001b[0m\u001b[0;34m\u001b[0m\u001b[0;34m\u001b[0m\u001b[0m\n",
      "\u001b[0;32m~/Desktop/Code/Fall2021/venv/lib/python3.9/site-packages/pandas/util/__init__.py\u001b[0m in \u001b[0;36m<module>\u001b[0;34m\u001b[0m\n\u001b[0;32m----> 1\u001b[0;31m from pandas.util._decorators import (  # noqa\n\u001b[0m\u001b[1;32m      2\u001b[0m     \u001b[0mAppender\u001b[0m\u001b[0;34m,\u001b[0m\u001b[0;34m\u001b[0m\u001b[0;34m\u001b[0m\u001b[0m\n\u001b[1;32m      3\u001b[0m     \u001b[0mSubstitution\u001b[0m\u001b[0;34m,\u001b[0m\u001b[0;34m\u001b[0m\u001b[0;34m\u001b[0m\u001b[0m\n\u001b[1;32m      4\u001b[0m     \u001b[0mcache_readonly\u001b[0m\u001b[0;34m,\u001b[0m\u001b[0;34m\u001b[0m\u001b[0;34m\u001b[0m\u001b[0m\n\u001b[1;32m      5\u001b[0m )\n",
      "\u001b[0;32m~/Desktop/Code/Fall2021/venv/lib/python3.9/site-packages/pandas/util/_decorators.py\u001b[0m in \u001b[0;36m<module>\u001b[0;34m\u001b[0m\n\u001b[1;32m     12\u001b[0m \u001b[0;32mimport\u001b[0m \u001b[0mwarnings\u001b[0m\u001b[0;34m\u001b[0m\u001b[0;34m\u001b[0m\u001b[0m\n\u001b[1;32m     13\u001b[0m \u001b[0;34m\u001b[0m\u001b[0m\n\u001b[0;32m---> 14\u001b[0;31m \u001b[0;32mfrom\u001b[0m \u001b[0mpandas\u001b[0m\u001b[0;34m.\u001b[0m\u001b[0m_libs\u001b[0m\u001b[0;34m.\u001b[0m\u001b[0mproperties\u001b[0m \u001b[0;32mimport\u001b[0m \u001b[0mcache_readonly\u001b[0m  \u001b[0;31m# noqa\u001b[0m\u001b[0;34m\u001b[0m\u001b[0;34m\u001b[0m\u001b[0m\n\u001b[0m\u001b[1;32m     15\u001b[0m \u001b[0;32mfrom\u001b[0m \u001b[0mpandas\u001b[0m\u001b[0;34m.\u001b[0m\u001b[0m_typing\u001b[0m \u001b[0;32mimport\u001b[0m \u001b[0mF\u001b[0m\u001b[0;34m\u001b[0m\u001b[0;34m\u001b[0m\u001b[0m\n\u001b[1;32m     16\u001b[0m \u001b[0;34m\u001b[0m\u001b[0m\n",
      "\u001b[0;32m~/Desktop/Code/Fall2021/venv/lib/python3.9/site-packages/pandas/_libs/__init__.py\u001b[0m in \u001b[0;36m<module>\u001b[0;34m\u001b[0m\n\u001b[1;32m     11\u001b[0m \u001b[0;34m\u001b[0m\u001b[0m\n\u001b[1;32m     12\u001b[0m \u001b[0;34m\u001b[0m\u001b[0m\n\u001b[0;32m---> 13\u001b[0;31m \u001b[0;32mfrom\u001b[0m \u001b[0mpandas\u001b[0m\u001b[0;34m.\u001b[0m\u001b[0m_libs\u001b[0m\u001b[0;34m.\u001b[0m\u001b[0minterval\u001b[0m \u001b[0;32mimport\u001b[0m \u001b[0mInterval\u001b[0m\u001b[0;34m\u001b[0m\u001b[0;34m\u001b[0m\u001b[0m\n\u001b[0m\u001b[1;32m     14\u001b[0m from pandas._libs.tslibs import (\n\u001b[1;32m     15\u001b[0m     \u001b[0mNaT\u001b[0m\u001b[0;34m,\u001b[0m\u001b[0;34m\u001b[0m\u001b[0;34m\u001b[0m\u001b[0m\n",
      "\u001b[0;31mImportError\u001b[0m: dlopen(/Users/wilsonle/Desktop/Code/Fall2021/venv/lib/python3.9/site-packages/pandas/_libs/interval.cpython-39-darwin.so, 2): no suitable image found.  Did find:\n\t/Users/wilsonle/Desktop/Code/Fall2021/venv/lib/python3.9/site-packages/pandas/_libs/interval.cpython-39-darwin.so: mach-o, but wrong architecture\n\t/Users/wilsonle/Desktop/Code/Fall2021/venv/lib/python3.9/site-packages/pandas/_libs/interval.cpython-39-darwin.so: mach-o, but wrong architecture"
     ]
    }
   ],
   "source": [
    "import pandas as pd\n",
    "\n",
    "file = open(\"topnames.csv\", 'r')\n",
    "columns = file.readline().strip().split(',')    # read first line\n",
    "LoL = []\n",
    "for row in file:\n",
    "    l = row.strip().split(',')\n",
    "    LoL.append(l)\n",
    "\n",
    "df = pd.DataFrame(LoL, columns=columns)\n",
    "\n",
    "df.tail(60)"
   ]
  },
  {
   "cell_type": "markdown",
   "metadata": {},
   "source": [
    "## Part 2 [10 Points]\n",
    "\n",
    "Using methods from pandas (along with built-in Python function(s)) calculate the average babies born per year in each decade for 80s, 90s, and 00s, i.e., you should display one average for each decase. You are not required to write your code in a function (it's fine to just execute your code in the cell). Your answers for each should be 119763.3, 79083.0, and 50586.7, respectively. "
   ]
  },
  {
   "cell_type": "code",
   "execution_count": null,
   "metadata": {},
   "outputs": [],
   "source": [
    "yearDf = df.set_index([\"year\", \"sex\"])\n",
    "averages = []\n",
    "averageString = \"\"\n",
    "for start in range(1880, 2018, 10):\n",
    "\tend = start + 9\n",
    "\tdecadeDf = yearDf[(str(start), \"Female\"):(str(end), \"Male\")]\n",
    "\ttotal = sum([int(val) for val in decadeDf[\"count\"]])\n",
    "\taverage = total / len(decadeDf)\n",
    "\taverages.append(average)\n",
    "for i in range(len(averages) - 1):\n",
    "\taverageString += f\"{averages[i]}, \"\n",
    "averageString += str(averages[len(averages) - 1])\n",
    "print(averageString)"
   ]
  },
  {
   "cell_type": "markdown",
   "metadata": {},
   "source": [
    "## Part 3 [+ 3 EC if Correct]\n",
    "\n",
    "* First, read Section 7.3.4 in your textbook to see the syntax for doing row selections using conditions (instead of *slicing* in the above examples). \n",
    "\n",
    "* Next, in the cell(s) below, write a function <code>maxDecadeBirths(babyDF)</code> that takes in a data frame <code>babyDF</code> whose rows only include data from one sex, and then returns string that indicates both which decade had the highest average and what the average is. Your function should use a loop to calcuate the maximum (i.e., it should easily scale to tables with data that might go back further in time). \n",
    "\n",
    "* Then, use this function to determine (along with what you learned in Section 7.3.4) to determine both the decades with the highest average female and male births. You do not need to consider 10s, since this decade is missing data for 2019. "
   ]
  },
  {
   "cell_type": "code",
   "execution_count": null,
   "metadata": {},
   "outputs": [],
   "source": [
    "babyMaleDf = df[df[\"sex\"] == \"Male\"]\n",
    "babyFemaleDf = df[df[\"sex\"] == \"Female\"]\n",
    "\n",
    "def maxDecadeBirths(babyDf):\n",
    "\t\"\"\"take in baby dataframe, find the decade with the most average children being born.\n",
    "\tinput (DataFrame): input baby of 1 sex Data frame\n",
    "\toutput (string): the decade of the most average chidlren being born and the average value.\n",
    "\t\"\"\"\n",
    "\tstartTime = int(list(babyDf[\"year\"])[0])\n",
    "\tendTime = int(list(babyDf[\"year\"][-1:])[0])\n",
    "\tyearDf = babyDf.set_index(\"year\")\n",
    "\n",
    "\t# initially assign maxDecade and maxAvgBirth the first decade in df\n",
    "\tfirstDecadeDf = yearDf[str(startTime):str(startTime+9)]\n",
    "\tmaxDecade = startTime\n",
    "\tmaxAvgBirth = sum([int(val) for val in firstDecadeDf[\"count\"]]) / len(firstDecadeDf)\n",
    "\t\n",
    "\t# check for decades with higher avg birth\n",
    "\tfor start in range(startTime, endTime, 10):\n",
    "\t\tdecadeDf = yearDf[str(start):str(start + 9)]\n",
    "\t\taverage = sum([int(val) for val in decadeDf[\"count\"]]) / len(decadeDf)\n",
    "\t\tif maxAvgBirth < average:\n",
    "\t\t\tmaxDecade = start\n",
    "\t\t\tmaxAvgBirth = average\n",
    "\treturn f\"{maxDecade}, {maxAvgBirth}\"\n",
    "print(maxDecadeBirths(babyMaleDf))\n",
    "print(maxDecadeBirths(babyFemaleDf))"
   ]
  }
 ],
 "metadata": {
  "celltoolbar": "Create Assignment",
  "kernelspec": {
   "name": "python3",
   "display_name": "Python 3.9.2 64-bit ('venv': venv)",
   "metadata": {
    "interpreter": {
     "hash": "9bcdee394dfe0bc4350aab0c18dd07e21676f5e6d12f63885abdf0aa2e886416"
    }
   }
  },
  "language_info": {
   "codemirror_mode": {
    "name": "ipython",
    "version": 3
   },
   "file_extension": ".py",
   "mimetype": "text/x-python",
   "name": "python",
   "nbconvert_exporter": "python",
   "pygments_lexer": "ipython3",
   "version": "3.9.2"
  }
 },
 "nbformat": 4,
 "nbformat_minor": 2
}