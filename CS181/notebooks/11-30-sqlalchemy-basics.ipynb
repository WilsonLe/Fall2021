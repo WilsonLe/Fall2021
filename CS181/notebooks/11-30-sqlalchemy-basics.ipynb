{
 "cells": [
  {
   "cell_type": "code",
   "execution_count": 2,
   "metadata": {},
   "outputs": [],
   "source": [
    "# Basic SQL Queries in Jupyter Notebooks using SQLAlchemy\n",
    "# CS 181/DA 210 \n",
    "# Dr. Kell, Fall 2021\n",
    "\n",
    "import sqlalchemy as sa\n",
    "\n",
    "# close any connections that may have been left open before\n",
    "try:\n",
    "    connection.close()\n",
    "    del engine\n",
    "except:\n",
    "    pass\n",
    "\n",
    "# creates SQL \"engine\" that allows you to interact with \n",
    "engine = sa.create_engine(\"sqlite+pysqlite:///school.db\")\n",
    "connection = engine.connect()"
   ]
  },
  {
   "cell_type": "code",
   "execution_count": 3,
   "metadata": {},
   "outputs": [
    {
     "name": "stdout",
     "output_type": "stream",
     "text": [
      "['classes', 'courses', 'departments', 'instructor_class', 'instructors', 'student_class', 'students', 'subjects']\n"
     ]
    }
   ],
   "source": [
    "# print out list of tables in database\n",
    "tables = sa.inspect(engine).get_table_names()\n",
    "print(tables)"
   ]
  },
  {
   "cell_type": "code",
   "execution_count": 4,
   "metadata": {},
   "outputs": [
    {
     "data": {
      "text/plain": [
       "<sqlalchemy.engine.cursor.LegacyCursorResult at 0x1077fd160>"
      ]
     },
     "execution_count": 4,
     "metadata": {},
     "output_type": "execute_result"
    }
   ],
   "source": [
    "# select every record from the departments table\n",
    "departmentQuery = \"SELECT * FROM departments\" \n",
    "deptResultProxy = connection.execute(departmentQuery)  # \"execute\" the query, returns result as ResultProxy object\n",
    "deptResultProxy"
   ]
  },
  {
   "cell_type": "code",
   "execution_count": 4,
   "metadata": {},
   "outputs": [
    {
     "name": "stdout",
     "output_type": "stream",
     "text": [
      "['departmentid', 'departmentname', 'departmentchair', 'division']\n"
     ]
    }
   ],
   "source": [
    "# get the list of keys/fields/column headers in the table\n",
    "deptFieldList = deptResultProxy.keys()\n",
    "print(deptFieldList)"
   ]
  },
  {
   "cell_type": "code",
   "execution_count": 5,
   "metadata": {},
   "outputs": [
    {
     "name": "stdout",
     "output_type": "stream",
     "text": [
      "('ANSO', 'Anthropology and Sociology', None, 'Social Sciences')\n"
     ]
    }
   ],
   "source": [
    "# fetch a sinlge entry from the table (given as a tuple)\n",
    "row = deptResultProxy.fetchone()    \n",
    "print(row)\n",
    "# ...note that each time you run the cell, it returns the next record/row in the table"
   ]
  },
  {
   "cell_type": "code",
   "execution_count": 6,
   "metadata": {},
   "outputs": [
    {
     "name": "stdout",
     "output_type": "stream",
     "text": [
      "('ART', 'Art History and Visual Culture', 9252, 'Fine Arts')\n",
      "('BIOL', 'Biology', None, 'Natural Sciences')\n",
      "('BLST', 'Black Studies', 9133, 'Interdisciplinary')\n",
      "('CHEM', 'Chemistry and Biochemistry', 9143, 'Natural Sciences')\n",
      "('CINE', 'Cinema', 9042, 'Fine Arts')\n",
      "('CLAS', 'Classical Studies', 9111, 'Humanities')\n",
      "('COMM', 'Communication', 9144, 'Social Sciences')\n",
      "('DANC', 'Dance', 9180, 'Fine Arts')\n",
      "('EAST', 'East Asian Studies', 9257, 'Interdisciplinary')\n",
      "('ECON', 'Economics', 9291, 'Social Sciences')\n",
      "('EDUC', 'Education', None, 'Social Sciences')\n",
      "('ENGL', 'English', 9142, 'Humanities')\n",
      "('ENVS', 'Environmental Studies', 9253, 'Interdisciplinary')\n",
      "('FYS', 'First Year Seminar', None, 'Interdisciplinary')\n",
      "('GEOS', 'Geosciences', None, 'Natural Sciences')\n",
      "('HIST', 'History', 9248, 'Humanities')\n",
      "('HNRS', 'Honors', None, 'Interdisciplinary')\n",
      "('INTD', 'Interdepartmental', None, 'Interdisciplinary')\n",
      "('INTL', 'International Studies', 9178, 'Interdisciplinary')\n",
      "('LACS', 'Latin Amer &Caribbean Studies', None, 'Interdisciplinary')\n",
      "('LANG', 'Modern Language', 9153, 'Humanities')\n",
      "('MATH', 'Mathematics & Computer Science', 9140, 'Natural Sciences')\n",
      "('MTA', 'Media Technology and Arts', None, 'Interdisciplinary')\n",
      "('MUS', 'Music', 9116, 'Fine Arts')\n",
      "('NEUR', 'Neuroscience', None, 'Interdisciplinary')\n",
      "('PHED', 'Health, Exercise, & Sport Stud', 9073, 'Social Sciences')\n",
      "('PHIL', 'Philosophy', 9085, 'Humanities')\n",
      "('PHYS', 'Physics', 9089, 'Natural Sciences')\n",
      "('POSC', 'Political Science', 9064, 'Social Sciences')\n",
      "('PPE', 'Philosophy/PoliSci/Economics', None, 'Interdisciplinary')\n",
      "('PSYC', 'Psychology', 9107, 'Natural Sciences')\n",
      "('QS', 'Queer Studies', None, 'Interdisciplinary')\n",
      "('REL', 'Religion', 9285, 'Humanities')\n",
      "('THTR', 'Theatre', 9204, 'Fine Arts')\n",
      "('WGST', \"Women's and Gender Studies\", None, 'Interdisciplinary')\n"
     ]
    }
   ],
   "source": [
    "# ... fetchone() will eventually return None when it reaches the end of table\n",
    "row = deptResultProxy.fetchone()   \n",
    "while row != None:\n",
    "    print(row)\n",
    "    row = deptResultProxy.fetchone()"
   ]
  },
  {
   "cell_type": "markdown",
   "metadata": {},
   "source": [
    "In cell below, implement the <code>buildDolFromProxy(proxy)</code> function specified below, which takes in a ResultProxy object as a parameter and then builds a dol representation of the table (the methods given above should be sufficient). Then, use the function to do basic SQL queries that retrieve different tables from the school database and converts them into pandas data frames. "
   ]
  },
  {
   "cell_type": "code",
   "execution_count": 7,
   "metadata": {},
   "outputs": [],
   "source": [
    "def buildDoLFromProxy(proxy):\n",
    "    '''\n",
    "    Builds a dol from ResultProxy object return from sql query.\n",
    "    parameters: ResultProxy object proxy (interfaces with SQL table as shown above)\n",
    "    return: a dol representation of the table given by proxy'''\n",
    "  \n",
    "    # WRITE THIS FUNCTION  "
   ]
  },
  {
   "cell_type": "code",
   "execution_count": 8,
   "metadata": {},
   "outputs": [],
   "source": [
    "import pandas as pd\n",
    "\n",
    "# CODE TO BUILD DATA FRAMES (should call buildDolFromProxy)"
   ]
  }
 ],
 "metadata": {
  "kernelspec": {
   "display_name": "Python 3",
   "language": "python",
   "name": "python3"
  },
  "language_info": {
   "codemirror_mode": {
    "name": "ipython",
    "version": 3
   },
   "file_extension": ".py",
   "mimetype": "text/x-python",
   "name": "python",
   "nbconvert_exporter": "python",
   "pygments_lexer": "ipython3",
   "version": "3.9.7"
  }
 },
 "nbformat": 4,
 "nbformat_minor": 2
}
