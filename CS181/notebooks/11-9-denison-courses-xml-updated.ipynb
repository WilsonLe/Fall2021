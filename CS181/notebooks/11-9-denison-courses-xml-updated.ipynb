{
 "cells": [
  {
   "cell_type": "code",
   "execution_count": 2,
   "metadata": {},
   "outputs": [
    {
     "name": "stdout",
     "output_type": "stream",
     "text": [
      "CINE\n",
      "MATH\n"
     ]
    }
   ],
   "source": [
    "# processing Denison courses tree table as an XML table \n",
    "from lxml import etree\n",
    "\n",
    "denisonTree = etree.parse(\"denison-courses.xml\")\n",
    "overallRoot = denisonTree.getroot()\n",
    "\n",
    "# get each of subtrees at the overall root \n",
    "departmentRoot = overallRoot[0]\n",
    "courseRoot = overallRoot[1]\n",
    "instructorRoot = overallRoot[2]\n",
    "\n",
    "# print off the department IDs\n",
    "for deptNode in departmentRoot:\n",
    "    print(deptNode.get(\"id\"))"
   ]
  },
  {
   "cell_type": "code",
   "execution_count": 3,
   "metadata": {},
   "outputs": [
    {
     "name": "stdout",
     "output_type": "stream",
     "text": [
      "9024 Lori Williams\n",
      "9031 Ankita Jayaraman\n",
      "9059 Arthur Chapman\n",
      "9077 Jordan Ray\n",
      "9106 Kathleen Campbell\n",
      "9139 Caitlin Fox\n",
      "9140 Betty Bradley\n",
      "9160 Barbara Wong\n",
      "9171 Rose James\n",
      "9192 Brian Edwards\n",
      "9231 Raymond Nguyen\n",
      "9279 Cynthia Castro\n",
      "9042 Theresa Rice\n",
      "9097 Shirley Morgan\n",
      "9273 Austin Gray\n",
      "9284 Sarah Woods\n"
     ]
    }
   ],
   "source": [
    "# builds dictionary that maps instructors id to their instructors\n",
    "idToName= {}\n",
    "for instructorNode in instructorRoot: \n",
    "    curId = instructorNode.get(\"id\")\n",
    "    fname = instructorNode.find(\"first\").text\n",
    "    lname = instructorNode.find(\"last\").text\n",
    "    idToName[curId] = fname + \" \" + lname\n",
    "    \n",
    "for curId in idToName:\n",
    "    print(str(curId) + \" \" + idToName[curId])"
   ]
  },
  {
   "cell_type": "markdown",
   "metadata": {},
   "source": [
    "In the cell below, use the XML functionality to build a data frame where the rows of the table correspond to courses, and\n",
    "and the column headers correspond to instructors. Then, each table entry corresponding to a (course, instructor) pair should include at least one time slot (both hour range and days of the week) from the *spring* semester when the instructor will teach the course. If the instructor does not teach the course, then the entry should just be the empty string. (Thus, note that the resulting table will be a bit sparse). "
   ]
  },
  {
   "cell_type": "code",
   "execution_count": 3,
   "metadata": {},
   "outputs": [],
   "source": [
    "# ADD YOUR CODE HERE"
   ]
  }
 ],
 "metadata": {
  "kernelspec": {
   "display_name": "Python 3",
   "language": "python",
   "name": "python3"
  },
  "language_info": {
   "codemirror_mode": {
    "name": "ipython",
    "version": 3
   },
   "file_extension": ".py",
   "mimetype": "text/x-python",
   "name": "python",
   "nbconvert_exporter": "python",
   "pygments_lexer": "ipython3",
   "version": "3.9.7"
  }
 },
 "nbformat": 4,
 "nbformat_minor": 2
}
