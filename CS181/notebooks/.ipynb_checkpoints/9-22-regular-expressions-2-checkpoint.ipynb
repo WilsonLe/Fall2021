{
 "cells": [
  {
   "cell_type": "markdown",
   "metadata": {},
   "source": [
    "CS 181/DA 210, Fall 2021 <br>\n",
    "Regular Expression Examples <br>\n",
    "Dr. Kell <br>"
   ]
  },
  {
   "cell_type": "code",
   "execution_count": 1,
   "metadata": {},
   "outputs": [],
   "source": [
    "import re \n",
    "# declare target as multiline string \n",
    "target = \"\"\"Alice says the price of oranges is $3.14. \n",
    "Bob says the price of bananas is $2.71. \n",
    "Cindy says the price of peaches is $1.61\"\"\"\n",
    "\n",
    "# specify R.E. pattern as raw string \n",
    "pattern = r'(\\w+).+of\\s+(\\w+).*\\$(\\d+\\.\\d{2})'"
   ]
  },
  {
   "cell_type": "code",
   "execution_count": 2,
   "metadata": {},
   "outputs": [
    {
     "name": "stdout",
     "output_type": "stream",
     "text": [
      "<re.Match object; span=(0, 40), match='Alice says the price of oranges is $3.14'>\n"
     ]
    }
   ],
   "source": [
    "# finds first successul match\n",
    "match = re.match(pattern, target)\n",
    "print(match)"
   ]
  },
  {
   "cell_type": "code",
   "execution_count": 3,
   "metadata": {},
   "outputs": [
    {
     "name": "stdout",
     "output_type": "stream",
     "text": [
      "[('Alice', 'oranges', '3.14'), ('Bob', 'bananas', '2.71'), ('Cindy', 'peaches', '1.61')]\n"
     ]
    }
   ],
   "source": [
    "# find all matches (returns a list of tuples)\n",
    "\n",
    "matches = re.findall(pattern, target)\n",
    "print(matches)"
   ]
  },
  {
   "cell_type": "code",
   "execution_count": 4,
   "metadata": {},
   "outputs": [
    {
     "name": "stdout",
     "output_type": "stream",
     "text": [
      "('Alice', 'oranges', 3.14)\n",
      "('Bob', 'bananas', 2.71)\n",
      "('Cindy', 'peaches', 1.61)\n"
     ]
    }
   ],
   "source": [
    "# print all matches in a for loop \n",
    "\n",
    "for match in re.finditer(pattern, target):\n",
    "    item = (match.group(1), match.group(2), float(match.group(3)))\n",
    "    print(item)"
   ]
  },
  {
   "cell_type": "markdown",
   "metadata": {},
   "source": [
    "In cell below, write code that uses regular expressions to scan the email headers in target, and builds a DoL data structure whose column headers are \"From\", \"To\" and \"Subject\". Each column is  thenpopulated with the corresponding information from each email header (e.g., the \"From\" column should cotain a list of all the names of people who sent the emails; in the below example, it should contain Robert Elz and Bob Binary. "
   ]
  },
  {
   "cell_type": "code",
   "execution_count": 8,
   "metadata": {},
   "outputs": [
    {
     "name": "stdout",
     "output_type": "stream",
     "text": [
      "[('Robert Elz', 'Chris Garrigues', 'Re: New Sequences Window From: external', 'Wed, 22 Sep 2021 21:55:18 +0700')]\n"
     ]
    }
   ],
   "source": [
    "import re \n",
    "\n",
    "target = \"\"\"From: Robert Elz <kre@munnari.OZ.AU>\n",
    "To: Chris Garrigues <cwg-dated-1030376441.95dd45@DeepEddy.com>\n",
    "Cc: exmh-workers@example.com\n",
    "Subject: Re: New Sequences Window From: external\n",
    "Sender: exmh-workers-admin@example.com\n",
    "Date: Wed, 22 Sep 2021 21:55:18 +0700\n",
    "\n",
    "From: Bob Binary <binaryb@denison.edu>\n",
    "To: Alice Algortihm <cwg-dated-1034506001.aalgortihm@denison.edu>\n",
    "Cc: compilec@denison.edu\n",
    "Subject: Project for CS 181/DA 210\n",
    "Date: Wed, 22 Sep 2021 21:55:18 +0700\"\"\"\n",
    "\n",
    "\n",
    "pattern = r'From: (\\w*\\s\\w*).*\\nTo: (\\w*\\s\\w*).*\\n.*\\nSubject: (.*)\\n.*\\nDate: (.*)\\n.*\\n'\n",
    "matches = re.findall(pattern, target)\n",
    "print(matches)"
   ]
  },
  {
   "cell_type": "code",
   "execution_count": null,
   "metadata": {},
   "outputs": [],
   "source": []
  }
 ],
 "metadata": {
  "kernelspec": {
   "display_name": "Python 3 (ipykernel)",
   "language": "python",
   "name": "python3"
  },
  "language_info": {
   "codemirror_mode": {
    "name": "ipython",
    "version": 3
   },
   "file_extension": ".py",
   "mimetype": "text/x-python",
   "name": "python",
   "nbconvert_exporter": "python",
   "pygments_lexer": "ipython3",
   "version": "3.9.7"
  }
 },
 "nbformat": 4,
 "nbformat_minor": 4
}
