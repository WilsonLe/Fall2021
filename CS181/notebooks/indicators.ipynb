{
 "cells": [
  {
   "cell_type": "code",
   "execution_count": 24,
   "metadata": {},
   "outputs": [
    {
     "name": "stdout",
     "output_type": "stream",
     "text": [
      "['code', 'year', 'country', 'pop', 'gdp', 'life', 'cell']\n"
     ]
    },
    {
     "ename": "AttributeError",
     "evalue": "'dict' object has no attribute 'insert'",
     "output_type": "error",
     "traceback": [
      "\u001b[0;31m---------------------------------------------------------------------------\u001b[0m",
      "\u001b[0;31mAttributeError\u001b[0m                            Traceback (most recent call last)",
      "\u001b[0;32m/var/folders/44/_47bkq8d4y91k9kc4cqbr2wc0000gn/T/ipykernel_33507/3648148519.py\u001b[0m in \u001b[0;36m<module>\u001b[0;34m\u001b[0m\n\u001b[1;32m     19\u001b[0m                                 \u001b[0md\u001b[0m\u001b[0;34m[\u001b[0m\u001b[0mcolName\u001b[0m\u001b[0;34m]\u001b[0m \u001b[0;34m=\u001b[0m \u001b[0marrayData\u001b[0m\u001b[0;34m[\u001b[0m\u001b[0mi\u001b[0m\u001b[0;34m]\u001b[0m\u001b[0;34m\u001b[0m\u001b[0;34m\u001b[0m\u001b[0m\n\u001b[1;32m     20\u001b[0m                         \u001b[0mdictionary\u001b[0m\u001b[0;34m[\u001b[0m\u001b[0mcode\u001b[0m\u001b[0;34m]\u001b[0m \u001b[0;34m=\u001b[0m \u001b[0;34m{\u001b[0m\u001b[0;34m}\u001b[0m\u001b[0;34m\u001b[0m\u001b[0;34m\u001b[0m\u001b[0m\n\u001b[0;32m---> 21\u001b[0;31m                         \u001b[0mdictionary\u001b[0m\u001b[0;34m[\u001b[0m\u001b[0mcode\u001b[0m\u001b[0;34m]\u001b[0m\u001b[0;34m.\u001b[0m\u001b[0minsert\u001b[0m\u001b[0;34m(\u001b[0m\u001b[0md\u001b[0m\u001b[0;34m)\u001b[0m\u001b[0;34m\u001b[0m\u001b[0;34m\u001b[0m\u001b[0m\n\u001b[0m\u001b[1;32m     22\u001b[0m \u001b[0;34m\u001b[0m\u001b[0m\n\u001b[1;32m     23\u001b[0m \u001b[0mprint\u001b[0m\u001b[0;34m(\u001b[0m\u001b[0mdictionary\u001b[0m\u001b[0;34m)\u001b[0m\u001b[0;34m\u001b[0m\u001b[0;34m\u001b[0m\u001b[0m\n",
      "\u001b[0;31mAttributeError\u001b[0m: 'dict' object has no attribute 'insert'"
     ]
    }
   ],
   "source": [
    "with open(\"indicators.csv\", \"r\") as file:\n",
    "\tcolumns = file.readline().strip().split(',')\n",
    "\tprint(columns)\n",
    "\tdictionary = {}\n",
    "\tfor line in file:\n",
    "\t\tarrayData = line.strip().split(',')\n",
    "\t\t# print(arrayData)\n",
    "\t\tcode = arrayData[0]\n",
    "\t\tif code in list(dictionary.keys()):\n",
    "\t\t\td = {}\n",
    "\t\t\tfor i in range(1, len(columns)):\n",
    "\t\t\t\tcolName = columns[i]\n",
    "\t\t\t\td[colName] = arrayData[i]\n",
    "\t\t\tdictionary[code].insert(d)\n",
    "\t\telse:\n",
    "\t\t\td = {}\n",
    "\t\t\tfor i in range(1, len(columns)):\n",
    "\t\t\t\tcolName = columns[i]\n",
    "\t\t\t\td[colName] = arrayData[i]\n",
    "\t\t\tdictionary[code] = {}\n",
    "\t\t\tdictionary[code].insert(d)\n",
    "\n",
    "print(dictionary)\n",
    "\t\t# split line to [code, year, country, pop, gdp, life, cell]\n",
    "\t\t# if code in keys of dictionary:\n",
    "\t\t#\t\tcreate new dict {year, country, pop, god, life, cell}\n",
    "\t\t#\t\tinsert new dict to dictionary[code]:dict\n",
    "\t\t# else\n",
    "\t\t# \tcreate new dict {year, country, pop, god, life, cell}\n",
    "\t\t#\t\tcreate key: dictionary[code] = {}\n",
    "\t\t# \tinsert new dict to dictionary[code]:dict"
   ]
  },
  {
   "cell_type": "code",
   "execution_count": null,
   "metadata": {},
   "outputs": [],
   "source": []
  }
 ],
 "metadata": {
  "interpreter": {
   "hash": "937ad08884dafedcb3ae5e60b5e232d067595c7eb460ec87b2cf88be37f4672a"
  },
  "kernelspec": {
   "display_name": "Python 3.9.7 64-bit (conda)",
   "name": "python3"
  },
  "language_info": {
   "codemirror_mode": {
    "name": "ipython",
    "version": 3
   },
   "file_extension": ".py",
   "mimetype": "text/x-python",
   "name": "python",
   "nbconvert_exporter": "python",
   "pygments_lexer": "ipython3",
   "version": "3.9.7"
  },
  "orig_nbformat": 4
 },
 "nbformat": 4,
 "nbformat_minor": 2
}
