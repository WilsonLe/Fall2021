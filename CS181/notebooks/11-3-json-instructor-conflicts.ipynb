{
 "cells": [
  {
   "cell_type": "code",
   "execution_count": null,
   "metadata": {},
   "outputs": [],
   "source": [
    "def hasConflict(time1, time2):\n",
    "    '''\n",
    "    Given two strings that represent course times (e.g. \"12:30-13:20 MWF\") \n",
    "    return True if the two time have a conflic; return false otherwise).\n",
    "    \n",
    "    Parameters: course times, represented as strings (in format give above)\n",
    "    Return Value: True if times overlap, False otherwise.'''\n",
    "    \n",
    "    \n",
    "    # WRITE THIS FUNCTION\n",
    "\t\t\n",
    "    \n",
    "\n",
    "print(hasConflict(\"12:30-13:20 MWF\", \"11:00-12:50 MW\"))  # True\n",
    "print(hasConflict(\"12:30-13:20 TR\", \"11:00-12:50 MWF\"))  # False (non-overlapping days)\n",
    "print(hasConflict(\"14:30-15:20 MWF\", \"13:20-14:20 MWF\"))  # False (non-overlapping times)"
   ]
  },
  {
   "cell_type": "code",
   "execution_count": 22,
   "metadata": {},
   "outputs": [
    {
     "name": "stdout",
     "output_type": "stream",
     "text": [
      "['13:30-14:20 MWF', '10:30-11:20 MWF', '10:30-11:20 MWF', '13:30-16:20 R', '13:30-14:50 TR', '14:30-17:20 W', '14:30-17:20 W', '12:30-13:20 MWF', '10:00-11:20 TR', '13:30-14:20 MWF', '13:30-16:50 TR', '12:30-13:20 MWF', '12:30-13:20 MWF', '13:30-16:20 T', '14:30-16:50 W', '10:30-11:20 MWRF', '08:30-09:20 MWRF', '10:30-11:20 MWRF', '09:30-10:20 MWRF', '12:30-13:20 MTWF', '11:30-12:20 MTWF', '09:30-10:20 MWRF', '18:00-20:00 T', '10:30-11:20 MWRF', '13:30-14:20 MTWF', '08:30-09:20 MWF', '11:30-12:20 MTWF', '13:30-14:20 MWRF', '09:30-10:20 MWRF', '11:30-12:20 MWF', '13:30-14:20 MWF', '12:30-13:20 MWF', '12:30-13:20 MWF', '14:30-15:20 MWF', '11:30-12:20 MWF', '08:30-09:20 MWRF', '09:30-10:20 MWRF', '10:30-11:20 MWRF', '11:30-12:20 MTWF', '10:30-11:20 MWRF', '08:30-09:20 MWRF', '09:30-10:20 MWRF', '10:30-11:20 MWRF', '08:30-09:20 MWRF', '10:30-11:20 MWRF', '10:30-11:20 MWRF', '12:30-13:20 MTWF', '08:30-09:20 MWRF', '09:30-10:20 MWRF', '11:30-12:20 MTWF', '11:30-12:20 MTWF', '18:00-20:00 T', '10:30-11:20 MWRF', '12:30-13:20 MTWF', '10:30-11:20 MWRF', '13:30-14:20 MTWF', '12:30-13:20 MWF', '09:30-10:20 MWRF', '12:30-13:20 MTWF', '11:30-12:20 MTWF', '08:30-09:20 MWRF']\n"
     ]
    }
   ],
   "source": [
    "# Output the the list of instructors in the spring semester with \n",
    "# whom you can take at least one oures in the spring semester.\n",
    "import json \n",
    "from pprint import pprint\n",
    "\n",
    "denisonDict = json.load(open(\"denison-courses.json\", \"r\"))\n",
    "myMeetTimes = [\"13:30-14:30 MWF\", \"9:00-10:20 TR\", \"11:30-12:20 MTWF\"]\n",
    "\n",
    "meetingTimes = []\n",
    "\n",
    "courses = denisonDict[\"courses\"]\n",
    "for course in courses:\n",
    "\tif \"class\" in course:\n",
    "\t\tsections = course[\"class\"]\n",
    "\t\tif type(sections) is list:\n",
    "\t\t\tfor section in sections:\n",
    "\t\t\t\tif \"meeting\" in section:\n",
    "\t\t\t\t\tmeetingTimes.append(section[\"meeting\"])\n",
    "\t\telse:\n",
    "\t\t\tif \"meeting\" in sections:\n",
    "\t\t\t\tmeetingTimes.append(sections[\"meeting\"])\n",
    "\n",
    "print(meetingTimes)\n",
    "\n",
    "# WRITE REMAINING CODE HERE"
   ]
  },
  {
   "cell_type": "markdown",
   "metadata": {},
   "source": [
    "In alphabetical order by first name, the list of names your code should output should are: <code>['Ankita Jayaraman', 'Arthur Chapman', 'Barbara Won', 'Brian Edwards', 'Cynthia Castro', 'Jordan Ray', 'Kathleen Campbell', 'Lori Williams', 'Raymond Nguyen', 'Sarah Woods', 'Shirley Morgan', 'Theresa Rice']</code>"
   ]
  },
  {
   "cell_type": "code",
   "execution_count": null,
   "metadata": {},
   "outputs": [],
   "source": []
  }
 ],
 "metadata": {
  "interpreter": {
   "hash": "937ad08884dafedcb3ae5e60b5e232d067595c7eb460ec87b2cf88be37f4672a"
  },
  "kernelspec": {
   "display_name": "Python 3.9.7 64-bit (conda)",
   "name": "python3"
  },
  "language_info": {
   "codemirror_mode": {
    "name": "ipython",
    "version": 3
   },
   "file_extension": ".py",
   "mimetype": "text/x-python",
   "name": "python",
   "nbconvert_exporter": "python",
   "pygments_lexer": "ipython3",
   "version": "3.9.7"
  }
 },
 "nbformat": 4,
 "nbformat_minor": 2
}
