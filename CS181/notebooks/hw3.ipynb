{
 "cells": [
  {
   "cell_type": "markdown",
   "metadata": {},
   "source": [
    "## Homework 3\n",
    "CS 181-01, Fall 2021 <br>\n",
    "Dr. Kell\n",
    "\n",
    "Before you turn in your submission, make sure everything runs as expected. First, restart the kernel (in the menubar, select Kernel → Restart) and then run all cells (in the menubar, select Cell → Run All). Make sure you fill in any place that says YOUR CODE HERE.\n",
    "\n",
    "Best of luck! "
   ]
  },
  {
   "cell_type": "code",
   "execution_count": 1,
   "metadata": {},
   "outputs": [],
   "source": [
    "# Put your name here\n",
    "NAME = \"Wilson Le\""
   ]
  },
  {
   "cell_type": "markdown",
   "metadata": {},
   "source": [
    "## Problem 1\n",
    "Write a function called <code>stdDev(L)</code> that takes a list <code>L</code> of floats and computes the standard deviation of the list. Look online to find the mathematical formula for standard deviation. In your implementation, you should not use any loops and should instead use list comprehensions, built-in functions, and (potentially) lambda definitions. Your function must have a full docstring comment block in order to receive full credit."
   ]
  },
  {
   "cell_type": "code",
   "execution_count": 19,
   "metadata": {
    "nbgrader": {
     "grade": false,
     "grade_id": "cell-20b4613ee391831a",
     "locked": false,
     "schema_version": 1,
     "solution": true
    }
   },
   "outputs": [],
   "source": [
    "import math\n",
    "\n",
    "def stdDev(L):\n",
    "\t\"\"\"Calculate standard deviation of input list\n",
    "\n",
    "\tArgs:\n",
    "        L (List): input lists\n",
    "\n",
    "\tReturns:\n",
    "        number: standard deviation of input list\n",
    "\t\"\"\"\n",
    "    n = len(L)\n",
    "    mean = sum(L) / n\n",
    "    varianceList = [(value - mean) ** 2 for value in L]\n",
    "    averageSquareVariance = sum(varianceList) / n\n",
    "    standardDeviation = averageSquareVariance ** 0.5\n",
    "    return standardDeviation"
   ]
  },
  {
   "cell_type": "markdown",
   "metadata": {
    "collapsed": true,
    "nbgrader": {
     "grade": true,
     "grade_id": "cell-82f740dc2e34d9f0",
     "locked": true,
     "points": 2,
     "schema_version": 1,
     "solution": false
    }
   },
   "source": [
    "### Tests for Problem 1\n",
    "Write at least five test cases for your code using assert statements."
   ]
  },
  {
   "cell_type": "code",
   "execution_count": 20,
   "metadata": {},
   "outputs": [
    {
     "output_type": "stream",
     "name": "stdout",
     "text": [
      "Test 1 Passed\nTest 2 Passed\nTest 3 Passed\nTest 4 Passed\nTest 5 Passed\n"
     ]
    }
   ],
   "source": [
    "assert stdDev([1,2,3]) == 0.816496580927726, \"Test 1 Failed\"\n",
    "print(\"Test 1 Passed\")\n",
    "assert stdDev([1,2,3,4,5,6]) == 1.707825127659933, \"Test 2 Failed\"\n",
    "print(\"Test 2 Passed\")\n",
    "assert stdDev([1,3,5,7,9,11,13]) == 4, \"Test 3 Failed\"\n",
    "print(\"Test 3 Passed\")\n",
    "assert stdDev([-5,-3,-1,1,3,5,7,9]) == 4.58257569495584, \"Test 4 Failed\"\n",
    "print(\"Test 4 Passed\")\n",
    "assert stdDev([-10,-8,-6,-4,-2,0,2,4,6,8,10]) == 6.324555320336759, \"Test 5 Failed\"\n",
    "print(\"Test 5 Passed\")\n"
   ]
  },
  {
   "cell_type": "markdown",
   "metadata": {},
   "source": [
    "## Problem 2 [10 points] \n",
    "Write a function <code>LoDMax(lod, column)</code> that takes in a list of dictionaries <code>lod</code>representation of a table, and then returns the maximum value in the column that is labeled by string <code>column</code>. (You can assume that the entries in this columns are numerical values). In your implementation, you should not use any loops and should instead use list comprehensions, built-in functions, and (potentially) lambda definitions. Your function must have a full docstring comment block in order to receive full credit."
   ]
  },
  {
   "cell_type": "code",
   "execution_count": 45,
   "metadata": {},
   "outputs": [],
   "source": [
    "def LoDMax(lod, column):\n",
    "    \"\"\"Get the maximum value of the input column of the input list of dictionary\n",
    "\n",
    "    Args:\n",
    "        lod (List of Dict): input list of dictionary\n",
    "        column (string): column to get max value\n",
    "\n",
    "    Returns:\n",
    "        number: max value of input colum of input list of dictionary\n",
    "    \"\"\"\n",
    "    l = [row[column] for row in lod]\n",
    "    return max(l)\n"
   ]
  },
  {
   "cell_type": "markdown",
   "metadata": {},
   "source": [
    "### Tests for Problem 2\n",
    "Write at least five test cases for your code using assert statements as we did in class."
   ]
  },
  {
   "cell_type": "code",
   "execution_count": 46,
   "metadata": {},
   "outputs": [
    {
     "output_type": "stream",
     "name": "stdout",
     "text": [
      "Test 1 Passed\nTest 2 Passed\nTest 3 Passed\nTest 4 Passed\nTest 5 Passed\n"
     ]
    }
   ],
   "source": [
    "lod = [{'a': 1},{'a': 2},{'a': 3},{'a': 4}]\n",
    "assert LoDMax(lod , \"a\") == 4, \"Test 1 Failed\"\n",
    "print(\"Test 1 Passed\")\n",
    "lod = [{'price': 120},{'price': 140},{'price': 420},{'price': 960}]\n",
    "assert LoDMax(lod , \"price\") == 960, \"Test 2 Failed\"\n",
    "print(\"Test 2 Passed\")\n",
    "lod = [{'mass': 4},{'mass': 3},{'mass': 6},{'mass': 12}]\n",
    "assert LoDMax(lod , \"mass\") == 12, \"Test 3 Failed\"\n",
    "print(\"Test 3 Passed\")\n",
    "lod = [{'quantity': 320},{'quantity': 152},{'quantity': 235},{'quantity': 185}]\n",
    "assert LoDMax(lod , \"quantity\") == 320, \"Test 4 Failed\"\n",
    "print(\"Test 4 Passed\")\n",
    "lod = [{'percent': 42},{'percent': 18},{'percent': 93},{'percent': 99}]\n",
    "assert LoDMax(lod , \"percent\") == 99, \"Test 5 Failed\"\n",
    "print(\"Test 5 Passed\")"
   ]
  },
  {
   "cell_type": "markdown",
   "metadata": {},
   "source": [
    "## Problem 3 [10 points] \n",
    "Write a function <code>doLSelect(doL, select)</code> that takes in a dictionary of lists representation of a table <code>dol</code> and a list strings <code>select</code>, and then returns a DoL representation of a table that contains the columns from <code>dol</code> whose column headers exist in list <code>select</code>. Note that you should not modify <code>dol</code>, but instead should build a new DoL representation and return it. In your implementation, you should not use any loops and should instead use list comprehensions, built-in functions, and (potentially) lambda definitions. Your function must have a full docstring comment block in order to receive full credit."
   ]
  },
  {
   "cell_type": "code",
   "execution_count": 72,
   "metadata": {},
   "outputs": [
    {
     "output_type": "stream",
     "name": "stdout",
     "text": [
      "{'column 5': []}\n"
     ]
    }
   ],
   "source": [
    "\n",
    "def doLSelect(DoL, select):\n",
    "    columns = DoL.keys()\n",
    "    lol = [DoL[col] for col in select]\n",
    "    newDoL = dict(zip(select, lol))\n",
    "    return newDoL\n",
    "print(doLSelect({\"column 5\": [], \"column 6\": [1]}, [\"column 5\"]))"
   ]
  },
  {
   "cell_type": "code",
   "execution_count": null,
   "metadata": {},
   "outputs": [],
   "source": [
    "### Tests for Problem 3\n",
    "Write at least three test cases for your code using assert statements as we did in class. "
   ]
  },
  {
   "cell_type": "code",
   "execution_count": 73,
   "metadata": {},
   "outputs": [
    {
     "output_type": "stream",
     "name": "stdout",
     "text": [
      "Test 1 Passed\nTest 2 Passed\nTest 3 Passed\nTest 4 Passed\nTest 5 Passed\n"
     ]
    }
   ],
   "source": [
    "dol = {\"column 1\": [1,2,3,4,5,6], \"column 2\": [9,8,7,6,5]}\n",
    "assert doLSelect(dol, [\"column 1\"]) == {\"column 1\": [1, 2, 3, 4, 5, 6]}, \"Test 1 Failed\"\n",
    "print(\"Test 1 Passed\")\n",
    "dol = {\"column 1\": [1,2,3,4,5,6], \"column 2\": [9,8,7,6,5]}\n",
    "assert doLSelect(dol, [\"column 2\"]) == {\"column 2\": [9,8,7,6,5]}, \"Test 2 Failed\"\n",
    "print(\"Test 2 Passed\")\n",
    "dol = {\"column 3\": [0,2,4,6,8], \"column 4\": [1,3,5,7,9]}\n",
    "assert doLSelect(dol, [\"column 3\"]) == {\"column 3\": [0,2,4,6,8]}, \"Test 3 Failed\"\n",
    "print(\"Test 3 Passed\")\n",
    "dol = {\"column 3\": [0,2,4,6,8], \"column 4\": [1,3,5,7,9]}\n",
    "assert doLSelect(dol, [\"column 4\"]) == {\"column 4\": [1,3,5,7,9]}, \"Test 4 Failed\"\n",
    "print(\"Test 4 Passed\")\n",
    "dol = {\"column 5\": [], \"column 6\": [1]}\n",
    "assert doLSelect(dol, [\"column 5\"]) == {\"column 5\": []}, \"Test 5 Failed\"\n",
    "print(\"Test 5 Passed\")"
   ]
  },
  {
   "cell_type": "markdown",
   "metadata": {},
   "source": [
    "## Challenge Problem 1 [3 points EC] \n",
    "Write a booelan function called <code>loDEqualsDoL(lod, dol)</code> that as parameters take in both <code>LoD</code> and <code>DoL</code> representations of tables, and returns <code>True</code> if the two data structures represent the same table (i.e., they have identical column headers, and the data in each column is identical). Otherwise, your function should return <code>False</code>.  In your implementation, you should not use any loops and should instead use list comprehensions, built-in functions, and (potentially) lambda definitions. Your function must have a full docstring comment block in order to receive full credit."
   ]
  },
  {
   "cell_type": "code",
   "execution_count": 152,
   "metadata": {},
   "outputs": [],
   "source": [
    "def loDEqualsDoL(lod, dol):\n",
    "    dol_cols = set(dol.keys())\n",
    "    lod_cols = set(lod[0].keys())\n",
    "    if dol_cols != lod_cols:\n",
    "        return False\n",
    "    # translate dol to lol, column centric\n",
    "    dol_lol_col_centric = [dol[col] for col in dol_cols]\n",
    "    # translate lod to lol, row centric\n",
    "    lod_lol_row_centric = [[dictionary[col] for col in lod_cols] for dictionary in lod]\n",
    "    # transpose row_centric list to col_centric list\n",
    "    lod_lol_col_centric = [[row[i] for row in lod_lol_row_centric] for i in range(len(dol_cols))]\n",
    "\n",
    "    if (dol_lol_col_centric == lod_lol_col_centric):\n",
    "        return True\n",
    "    else:\n",
    "        return False\n",
    "\n",
    "lod = [{\"a\": 1, \"b\": 2, \"c\": 3, \"d\": 4}, {\"a\": 5, \"b\": 6, \"c\": 7, \"d\": 8}, {\"a\": 9, \"b\": 10, \"c\": 11, \"d\": 12}]\n",
    "dol = {\"a\": [1,5,9], \"c\": [3,7,11], \"b\": [2,6,10], \"d\": [4,8,12]}\n"
   ]
  },
  {
   "cell_type": "markdown",
   "metadata": {},
   "source": [
    "### Tests for Challenge Problem 1\n",
    "Write at least five test cases for your code using assert statements as we did in class."
   ]
  },
  {
   "cell_type": "code",
   "execution_count": 153,
   "metadata": {},
   "outputs": [
    {
     "output_type": "stream",
     "name": "stdout",
     "text": [
      "Test 1 Passed\nTest 2 Passed\nTest 3 Passed\nTest 4 Passed\nTest 5 Passed\n"
     ]
    }
   ],
   "source": [
    "lod = [{\"a\": 1, \"b\": 2, \"c\": 3, \"d\": 4}, {\"a\": 5, \"b\": 6, \"c\": 7, \"d\": 8}, {\"a\": 9, \"b\": 10, \"c\": 11, \"d\": 12}]\n",
    "dol = {\"a\": [1,5,9], \"c\": [3,7,11], \"b\": [2,6,10], \"d\": [4,8,12]}\n",
    "assert loDEqualsDoL(lod, dol) == True, \"Test 1 Failed\"\n",
    "print(\"Test 1 Passed\")\n",
    "lod = [{\"a\": 1, \"b\": 2, \"c\": 3, \"d\": 4}, {\"a\": 5, \"b\": 6, \"c\": 7, \"d\": 8}, {\"a\": 9, \"b\": 10, \"c\": 11, \"d\": 12}]\n",
    "dol = {\"a\": [1,5,9], \"c\": [3,7,11], \"b\": [2,6,10], \"d\": [4,8,13]}\n",
    "assert loDEqualsDoL(lod, dol) == False, \"Test 2 Failed\"\n",
    "print(\"Test 2 Passed\")\n",
    "lod = [{\"a\": 1, \"b\": 2, \"c\": 3}, {\"a\": 4, \"b\": 5, \"c\": 6}, {\"a\": 7, \"b\": 8, \"c\": 9}]\n",
    "dol = {\"a\": [1,4,7], \"c\": [3,6,9], \"b\": [2,5,8], \"c\": [3,6,9]}\n",
    "assert loDEqualsDoL(lod, dol) == True, \"Test 3 Failed\"\n",
    "print(\"Test 3 Passed\")\n",
    "lod = [{\"b\": 2, \"c\": 3, \"d\": 4}, {\"b\": 6, \"c\": 7, \"d\": 8}, {\"b\": 10, \"c\": 11, \"d\": 12}]\n",
    "dol = {\"a\": [1,5,9], \"c\": [3,7,11], \"b\": [2,6,10], \"d\": [4,8,12]}\n",
    "assert loDEqualsDoL(lod, dol) == False, \"Test 4 Failed\"\n",
    "print(\"Test 4 Passed\")\n",
    "lod = [{\"a\": 1, \"b\": 2, \"c\": 3, \"d\": 4}, {\"a\": 5, \"b\": 6, \"c\": 7, \"d\": 8}, {\"a\": 9, \"b\": 10, \"c\": 11, \"d\": 12}]\n",
    "dol = {\"a\": [100,5,9], \"c\": [3,7,11], \"b\": [2,6,10], \"d\": [4,8,12]}\n",
    "assert loDEqualsDoL(lod, dol) == False, \"Test 5 Failed\"\n",
    "print(\"Test 5 Passed\")"
   ]
  },
  {
   "cell_type": "code",
   "execution_count": null,
   "metadata": {},
   "outputs": [],
   "source": []
  }
 ],
 "metadata": {
  "celltoolbar": "Create Assignment",
  "kernelspec": {
   "display_name": "Python 3 (ipykernel)",
   "language": "python",
   "name": "python3"
  },
  "language_info": {
   "codemirror_mode": {
    "name": "ipython",
    "version": 3
   },
   "file_extension": ".py",
   "mimetype": "text/x-python",
   "name": "python",
   "nbconvert_exporter": "python",
   "pygments_lexer": "ipython3",
   "version": "3.9.2"
  }
 },
 "nbformat": 4,
 "nbformat_minor": 2
}