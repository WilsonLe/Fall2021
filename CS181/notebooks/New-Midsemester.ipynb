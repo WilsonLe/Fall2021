{
 "cells": [
  {
   "cell_type": "code",
   "execution_count": 1,
   "id": "9dec5df3",
   "metadata": {},
   "outputs": [],
   "source": [
    "import requests\n",
    "import re"
   ]
  },
  {
   "cell_type": "code",
   "execution_count": 2,
   "id": "1a692181",
   "metadata": {
    "scrolled": false
   },
   "outputs": [],
   "source": [
    "req = requests.get('https://www.tripadvisor.com/ShowTopic-g60745-i48-k8581175-Airbnb_in_boston-Boston_Massachusetts.html')\n",
    "html = req.text\n",
    "#print(html)\n",
    "pattern = r\"<div class=\\\"post \\\".*>([\\w\\W]*)<div>\"\n",
    "print(re.findall(pattern, html))"
   ]
  },
  {
   "cell_type": "code",
   "execution_count": 6,
   "id": "cd1b83e9",
   "metadata": {},
   "outputs": [],
   "source": [
    "titles = doc.xpath('//div[@class=\"sc-kHVIJG.jOSokh\"]/text()')"
   ]
  },
  {
   "cell_type": "code",
   "execution_count": 7,
   "id": "0227b013",
   "metadata": {},
   "outputs": [
    {
     "name": "stdout",
     "output_type": "stream",
     "text": [
      "[]\n"
     ]
    }
   ],
   "source": [
    "print(titles)"
   ]
  },
  {
   "cell_type": "code",
   "execution_count": 10,
   "id": "d3b6eaa9",
   "metadata": {},
   "outputs": [],
   "source": [
    "import requests\n",
    "\n",
    "data_url = 'https://www.kaggle.com/airbnb/boston?select=calendar.csv'\n",
    "local_filename = \"calendar.csv\"\n",
    "\n",
    "# Kaggle Username and Password\n",
    "kaggle_info = {'UserName': \"myUsername\", 'Password': \"myPassword\"}\n",
    "\n",
    "# Attempts to download the CSV file. Gets rejected because we are not logged in.\n",
    "r = requests.get(data_url)\n",
    "\n",
    "# Login to Kaggle and retrieve the data.\n",
    "r = requests.post(r.url, data = kaggle_info)\n",
    "\n",
    "# Writes the data to a local file one chunk at a time.\n",
    "f = open(local_filename, 'wb')\n",
    "for chunk in r.iter_content(chunk_size = 512 * 1024): # Reads 512KB at a time into memory\n",
    "\n",
    "    if chunk: # filter out keep-alive new chunks\n",
    "        f.write(chunk)\n",
    "f.close()"
   ]
  },
  {
   "cell_type": "code",
   "execution_count": null,
   "id": "1647ad7a",
   "metadata": {},
   "outputs": [],
   "source": []
  }
 ],
 "metadata": {
  "interpreter": {
   "hash": "c6e4e9f98eb68ad3b7c296f83d20e6de614cb42e90992a65aa266555a3137d0d"
  },
  "kernelspec": {
   "display_name": "Python 3.9.7 64-bit (conda)",
   "name": "python3"
  },
  "language_info": {
   "codemirror_mode": {
    "name": "ipython",
    "version": 3
   },
   "file_extension": ".py",
   "mimetype": "text/x-python",
   "name": "python",
   "nbconvert_exporter": "python",
   "pygments_lexer": "ipython3",
   "version": "3.9.7"
  }
 },
 "nbformat": 4,
 "nbformat_minor": 5
}
