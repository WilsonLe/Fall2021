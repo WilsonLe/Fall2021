{
 "cells": [
  {
   "cell_type": "markdown",
   "metadata": {},
   "source": [
    "## Homework 1\n",
    "CS 181-01, Fall 2021 <br>\n",
    "Dr. Kell\n",
    "\n",
    "Before you turn in your submission, make sure everything runs as expected. First, restart the kernel (in the menubar, select Kernel → Restart) and then run all cells (in the menubar, select Cell → Run All). Make sure you fill in any place that says YOUR CODE HERE.\n",
    "\n",
    "**Also (IMPORTANT): If you have seen any of these problems (or the algorithms necessary to solve them) in a previous class, do not consult these references/notes when attempting these problems below!**\n",
    "\n",
    "Best of luck! "
   ]
  },
  {
   "cell_type": "markdown",
   "metadata": {},
   "source": [
    "## Problem 1 [10 points] \n",
    "Write a function called <code>mean(L)</code> that takes a list of numbers as a parameter and returns the arithmetic mean (average) of the numbers in the list. For example, <code>mean([2, 4, 9])</code> should return *5*. Your function must have a full docstring comment block in order to receive full credit. You may not use any built-in functions that automatically computes the mean, sums the values of the list, etc.. "
   ]
  },
  {
   "cell_type": "code",
   "execution_count": 2,
   "metadata": {
    "nbgrader": {
     "grade": false,
     "grade_id": "cell-20b4613ee391831a",
     "locked": false,
     "schema_version": 1,
     "solution": true
    }
   },
   "outputs": [],
   "source": [
    "def mean(L):\n",
    "    \"\"\"Calculates the arithmetic means of an input list\n",
    "\n",
    "    Args:\n",
    "        L (List): input list that is used to calculate arithmetic mean of\n",
    "\n",
    "    Returns:\n",
    "        double: the arithmetic mean of the input list\n",
    "    \"\"\"\n",
    "    sum = 0\n",
    "    for value in L:\n",
    "        sum += value\n",
    "    average = sum / len(L)\n",
    "    return average\n",
    "    "
   ]
  },
  {
   "cell_type": "markdown",
   "metadata": {
    "collapsed": true,
    "nbgrader": {
     "grade": true,
     "grade_id": "cell-82f740dc2e34d9f0",
     "locked": true,
     "points": 2,
     "schema_version": 1,
     "solution": false
    }
   },
   "source": [
    "### Tests for Problem 1\n",
    "Write at least five test cases for your code using assert statements as we did in class."
   ]
  },
  {
   "cell_type": "code",
   "execution_count": 3,
   "metadata": {},
   "outputs": [
    {
     "output_type": "stream",
     "name": "stdout",
     "text": [
      "Running tests\nTest 1 passed\nTest 2 passed\nTest 3 passed\nTest 4 passed\nTest 5 passed\n"
     ]
    }
   ],
   "source": [
    "print('Running tests')\n",
    "assert mean([1, 2, 3, 4, 5]) == 3, 'Test 1 failed'\n",
    "print('Test 1 passed')\n",
    "assert mean([-3, -2, -1, 0, 1, 2, 3]) == 0, \"Test 2 failed\"\n",
    "print('Test 2 passed')\n",
    "assert mean([3, 5, 1, 6, 5, 7, 9]) == (36 / 7), \"Test 3 failed\"\n",
    "print('Test 3 passed')\n",
    "assert mean([7, 6, 4, 3, 10, 27, -42, 24]) == (39 / 8), \"Test 4 failed\"\n",
    "print('Test 4 passed')\n",
    "assert mean([8, 7, 9, 10, 5, 1, -20, -39]) == (-19 / 8), \"Test 5 failed\"\n",
    "print('Test 5 passed')"
   ]
  },
  {
   "cell_type": "markdown",
   "metadata": {},
   "source": [
    "## Problem 2 [10 points]\n",
    "Write a function called <code>maximum(L)</code> that takes a list of ints <code>L</code> as a parameter and returns the maximum of the numbers in the list. For example, <code>maximum([10, 20, 15])</code> should return *20*. Your function must have a full docstring comment block in order to receive full credit. You may not use any built-in functions that automatically computes the maximum of the list for you. \n"
   ]
  },
  {
   "cell_type": "code",
   "execution_count": 4,
   "metadata": {},
   "outputs": [],
   "source": [
    "def maximum(L):\n",
    "    \"\"\"find the largest value in an input list\n",
    "\n",
    "    Args:\n",
    "        L (List): user input list of double/integers\n",
    "\n",
    "    Returns:\n",
    "        double/integers: the largest value in the input list\n",
    "    \"\"\"\n",
    "    max_val = L[0]\n",
    "    for val in L:\n",
    "        if val > max_val:\n",
    "            max_val = val\n",
    "    return max_val"
   ]
  },
  {
   "cell_type": "markdown",
   "metadata": {},
   "source": [
    "### Tests for Problem 2\n",
    "Write at least five test cases for your code using assert statements as we did in class."
   ]
  },
  {
   "cell_type": "code",
   "execution_count": 5,
   "metadata": {},
   "outputs": [
    {
     "output_type": "stream",
     "name": "stdout",
     "text": [
      "Running tests\nTest 1 passed\nTest 2 passed\nTest 3 passed\nTest 4 passed\nTest 5 passed\n"
     ]
    }
   ],
   "source": [
    "print('Running tests')\n",
    "assert maximum([1, 2, 3, 4, 5]) == 5, 'Test 1 failed'\n",
    "print('Test 1 passed')\n",
    "assert maximum([10, 30, 20, 25]) == 30, \"Test 2 failed\"\n",
    "print('Test 2 passed')\n",
    "assert maximum([20, 40, -10, 30]) == 40, \"Test 3 failed\"\n",
    "print('Test 3 passed')\n",
    "assert maximum([40, 70, 80, 90, 110, 420]) == 420, \"Test 4 failed\"\n",
    "print('Test 4 passed')\n",
    "assert maximum([42, 10, 6, 19, 72]) == 72, \"Test 5 failed\"\n",
    "print('Test 5 passed')"
   ]
  },
  {
   "cell_type": "markdown",
   "metadata": {},
   "source": [
    "## Problem 3 [10 points] \n",
    "Write a function called <code>areReverses(s1, s2)</code> which takes in two strings <code>s1</code> and <code>s2</code> and returns <code>True</code> if <code>s1</code> is the reverse of <code>s2</code> (otherwise, the function should return <code>False</code>). Your function must have a full docstring comment block in order to receive full credit. Your function should not use the built-in reverse function for strings, nor should it reverse either string via slicing."
   ]
  },
  {
   "cell_type": "code",
   "execution_count": 6,
   "metadata": {},
   "outputs": [],
   "source": [
    "def areReverse(s1, s2):\n",
    "    \"\"\"check if the two input strings are reverses of each other\n",
    "\n",
    "    Args:\n",
    "        s1 (string): first input string\n",
    "        s2 (string): second input string\n",
    "\n",
    "    Returns:\n",
    "        boolean: \n",
    "            True of both input strings are reverses of each other\n",
    "            False if otherwise\n",
    "    \"\"\"\n",
    "    if len(s1) == len(s2):\n",
    "        for i in range(len(s1)):\n",
    "            if s1[i] != s2[len(s1) - i - 1]:\n",
    "                return False\n",
    "        return True\n",
    "    else:\n",
    "        return False"
   ]
  },
  {
   "cell_type": "markdown",
   "metadata": {},
   "source": [
    "### Tests for Problem 3\n",
    "Write at least five test cases for your code using assert statements as we did in class."
   ]
  },
  {
   "cell_type": "code",
   "execution_count": 7,
   "metadata": {},
   "outputs": [
    {
     "output_type": "stream",
     "name": "stdout",
     "text": [
      "Running tests\nTest 1 passed\nTest 2 passed\nTest 3 passed\nTest 4 passed\nTest 5 passed\n"
     ]
    }
   ],
   "source": [
    "print(\"Running tests\")\n",
    "assert areReverse(\"cat\", \"tac\") == True, \"Test 1 failed\"\n",
    "print(\"Test 1 passed\")\n",
    "assert areReverse(\"racecar\", \"racecar\") == True, \"Test 2 failed\"\n",
    "print(\"Test 2 passed\")\n",
    "assert areReverse(\"denison\", \"denison\") == False, \"Test 3 failed\"\n",
    "print(\"Test 3 passed\")\n",
    "assert areReverse(\"181\", \"181\") == True, \"Test 4 failed\"\n",
    "print(\"Test 4 passed\")\n",
    "assert areReverse(\"python\", \"nohtyp\") == True, \"Test 5 failed\"\n",
    "print(\"Test 5 passed\")"
   ]
  },
  {
   "cell_type": "markdown",
   "metadata": {},
   "source": [
    "## Problem 4 [10 points] \n",
    "Write a function called <code>duplicateString()</code> that takes in a string <code>s</code> as a parameter and returns the string where every character in <code>s</code> has been duplicated. For example, if <code>s = 'banana'</code>, then your function should return the string <code>'bbaannaannaa\" </code>. Your function must have a full docstring comment block in order to receive full credit.\n"
   ]
  },
  {
   "cell_type": "code",
   "execution_count": 8,
   "metadata": {},
   "outputs": [],
   "source": [
    "def duplicateString(s):\n",
    "    \"\"\"generate a string where every character will appear twice next to each other based on an input string\n",
    "\n",
    "    Args:\n",
    "        s (string): an input string to have its characteres duplicated\n",
    "\n",
    "    Returns:\n",
    "        string: a new duplicated string where very character will appear twice next to each other\n",
    "    \"\"\"\n",
    "    newString = \"\"\n",
    "    for char in s:\n",
    "        newString += (char+char)\n",
    "    return newString"
   ]
  },
  {
   "cell_type": "markdown",
   "metadata": {},
   "source": [
    "### Tests for Problem 4\n",
    "Write at least five test cases for your code using assert statements as we did in class. "
   ]
  },
  {
   "cell_type": "code",
   "execution_count": 9,
   "metadata": {},
   "outputs": [
    {
     "output_type": "stream",
     "name": "stdout",
     "text": [
      "Running tests\nTest 1 passed\nTest 2 passed\nTest 3 passed\nTest 4 passed\nTest 5 passed\n"
     ]
    }
   ],
   "source": [
    "print(\"Running tests\")\n",
    "assert duplicateString(\"cat\") == \"ccaatt\", \"Test 1 failed\"\n",
    "print(\"Test 1 passed\")\n",
    "assert duplicateString(\"hello\") == \"hheelllloo\", \"Test 2 failed\"\n",
    "print(\"Test 2 passed\")\n",
    "assert duplicateString(\"denison\") == \"ddeenniissoonn\", \"Test 3 failed\"\n",
    "print(\"Test 3 passed\")\n",
    "assert duplicateString(\"computer\") == \"ccoommppuutteerr\", \"Test 4 failed\"\n",
    "print(\"Test 4 passed\")\n",
    "assert duplicateString(\"dog\") == \"ddoogg\", \"Test 5 failed\"\n",
    "print(\"Test 5 passed\")"
   ]
  },
  {
   "cell_type": "markdown",
   "metadata": {},
   "source": [
    "##  Challenge Problem 1 [3 points Extra Credit]\n",
    "\n",
    "Write a function called <code>twoThreeFactorsOnly(x)</code> that takes in a positive integer <code>x</code> as a parameter and returns <code>True</code> if <code>x</code> can be expressed as a product of only repeated multiples of 2s and 3s. For example, for numbers such as 6, 12, and 24 the function should return <code>True</code>. Numbers such as 5, 7, and 30 should return <code>False</code>. (Note that 30 is divisible by both 2 and 3, but cannot be expressed as only a product of 2s and 3s)."
   ]
  },
  {
   "cell_type": "code",
   "execution_count": 10,
   "metadata": {
    "nbgrader": {
     "grade": true,
     "grade_id": "cell-b807c70b3baa1249",
     "locked": false,
     "points": 2,
     "schema_version": 1,
     "solution": true
    }
   },
   "outputs": [],
   "source": [
    "def twoThreeFactorsOnly(x):\n",
    "    \"\"\"check if an input integer is a factor of 2 and 3\n",
    "\n",
    "    Args:\n",
    "        x (integer): input integer\n",
    "\n",
    "    Returns:\n",
    "        boolean:\n",
    "            True if the input integer is a factor of 2 and 3\n",
    "            False if the input integer is not a factor of 2 and 3 (even False if the integer is a factor of 2 or 3)\n",
    "    \"\"\"\n",
    "    if x % 2 == 0 and x % 3 == 0:\n",
    "        while x != 1:\n",
    "            if x % 2 == 0:\n",
    "                x = x / 2\n",
    "            elif x % 3 == 0:\n",
    "                x = x / 3\n",
    "            else:\n",
    "                return False\n",
    "        return True\n",
    "    else:\n",
    "        return False"
   ]
  },
  {
   "cell_type": "markdown",
   "metadata": {},
   "source": [
    "### Tests for Question 5\n",
    "Write at least five test cases for your code using assert statements as we did in class."
   ]
  },
  {
   "cell_type": "code",
   "execution_count": 11,
   "metadata": {
    "nbgrader": {
     "grade": true,
     "grade_id": "cell-9d7442a6014e5a02",
     "locked": false,
     "points": 2,
     "schema_version": 1,
     "solution": true
    }
   },
   "outputs": [
    {
     "output_type": "stream",
     "name": "stdout",
     "text": [
      "Running tests\nTest 1 passed\nTest 2 passed\nTest 3 passed\nTest 4 passed\nTest 5 passed\n"
     ]
    }
   ],
   "source": [
    "print(\"Running tests\")\n",
    "assert twoThreeFactorsOnly(9) == False, \"Test 1 failed\"\n",
    "print(\"Test 1 passed\")\n",
    "assert twoThreeFactorsOnly(4) == False, \"Test 2 failed\"\n",
    "print(\"Test 2 passed\")\n",
    "assert twoThreeFactorsOnly(6) == True, \"Test 3 failed\"\n",
    "print(\"Test 3 passed\")\n",
    "assert twoThreeFactorsOnly(749) == False, \"Test 4 failed\"\n",
    "print(\"Test 4 passed\")\n",
    "assert twoThreeFactorsOnly(11664) == True, \"Test 5 failed\"\n",
    "print(\"Test 5 passed\")"
   ]
  },
  {
   "cell_type": "markdown",
   "metadata": {},
   "source": [
    "## Challenge Problem 2 [3 points Extra Credit]\n",
    "For two sorted lists of integers <code>L1</code> and <code>L2</code>, both of length <code>n</code>, a *merge procedure* takes the two sorted lists and combines them into a single sorted lists containing all the integers from both lists (now\n",
    "containing <code>2n</code> integers).\n",
    "    \n",
    "For example, if <code>L1 = [1, 2, 8, 10, 12]</code> and <code>L2 = [4, 5, 7, 11, 13]</code>, the combined sorted list produced by the merge procedure would be: <code>[1, 2, 4, 5, 7, 8, 10, 11, 12, 13]</code>.\n",
    "    \n",
    "Write a function called <code>merge(L1, L2, n)</code> that takes in two lists <code>L1</code> and <code>L2</code> as parameters\n",
    "(and a parameter n which indicates their common length), and returns the combined sorted\n",
    "list produced by a merge procedure. You may not use the built-in sort function that automatically sorts lists for you. "
   ]
  },
  {
   "cell_type": "code",
   "execution_count": 12,
   "metadata": {},
   "outputs": [],
   "source": [
    "def merge(L1, L2, n):\n",
    "    \"\"\"generate a new sorted list using two input sorted list\n",
    "\n",
    "    Args:\n",
    "        L1 (List): first sorted list\n",
    "        L2 (List): second sorted list\n",
    "        n (integer): common length of both sorted list\n",
    "\n",
    "    Returns:\n",
    "        List: a sorted list, containing values from both input lists\n",
    "    \"\"\"\n",
    "    newList = []\n",
    "    i = 0\n",
    "    j = 0\n",
    "    while (i < len(L1) and j < len(L2)):\n",
    "        if (L1[i] < L2[j]):\n",
    "            newList.append(L1[i])\n",
    "            i += 1\n",
    "        else:\n",
    "            newList.append(L2[j])\n",
    "            j += 1\n",
    "    if (i >= len(L1)):\n",
    "        while j < len(L2):\n",
    "            newList.append(L2[j])\n",
    "            j += 1\n",
    "    else:\n",
    "        while i < len(L1):\n",
    "            newList.append(L1[i])\n",
    "            i += 1\n",
    "    return newList"
   ]
  },
  {
   "cell_type": "markdown",
   "metadata": {},
   "source": [
    "### Tests for Problem 6\n",
    "Write at least five test cases for your code using assert statements as we did in class."
   ]
  },
  {
   "cell_type": "code",
   "execution_count": 13,
   "metadata": {},
   "outputs": [
    {
     "output_type": "stream",
     "name": "stdout",
     "text": [
      "Running tests\nTest 1 passed\nTest 2 passed\nTest 3 passed\nTest 4 passed\nTest 5 passed\n"
     ]
    }
   ],
   "source": [
    "print(\"Running tests\")\n",
    "assert merge([1, 2, 3, 4], [5, 6, 7, 8], 4) == [\n",
    "    1, 2, 3, 4, 5, 6, 7, 8], \"Test 1 failed\"\n",
    "print(\"Test 1 passed\")\n",
    "assert merge([2, 4, 6, 8], [1, 3, 5, 7], 4) == [\n",
    "    1, 2, 3, 4, 5, 6, 7, 8], \"Test 2 failed\"\n",
    "print(\"Test 2 passed\")\n",
    "assert merge([1, 2, 3, 4], [1, 2, 3, 4], 4) == [\n",
    "    1, 1, 2, 2, 3, 3, 4, 4], \"Test 3 failed\"\n",
    "print(\"Test 3 passed\")\n",
    "assert merge([-4, -3, -2, -1], [1, 2, 3, 4], 4) == [\n",
    "    -4, -3, -2, -1, 1, 2, 3, 4], \"Test 4 failed\"\n",
    "print(\"Test 4 passed\")\n",
    "assert merge([], [], 0) == [], \"Test 5 failed\"\n",
    "print(\"Test 5 passed\")"
   ]
  },
  {
   "cell_type": "code",
   "execution_count": null,
   "metadata": {},
   "outputs": [],
   "source": []
  },
  {
   "cell_type": "code",
   "execution_count": null,
   "metadata": {},
   "outputs": [],
   "source": []
  }
 ],
 "metadata": {
  "celltoolbar": "Create Assignment",
  "kernelspec": {
   "name": "python3",
   "display_name": "Python 3.9.2 64-bit ('venv': venv)",
   "metadata": {
    "interpreter": {
     "hash": "9bcdee394dfe0bc4350aab0c18dd07e21676f5e6d12f63885abdf0aa2e886416"
    }
   }
  },
  "language_info": {
   "codemirror_mode": {
    "name": "ipython",
    "version": 3
   },
   "file_extension": ".py",
   "mimetype": "text/x-python",
   "name": "python",
   "nbconvert_exporter": "python",
   "pygments_lexer": "ipython3",
   "version": "3.9.2"
  }
 },
 "nbformat": 4,
 "nbformat_minor": 2
}