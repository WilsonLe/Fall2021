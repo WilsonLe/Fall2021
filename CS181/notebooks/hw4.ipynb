{
 "cells": [
  {
   "cell_type": "markdown",
   "metadata": {},
   "source": [
    "## Homework 4\n",
    "CS 181-01, Fall 2021 <br>\n",
    "Dr. Kell\n",
    "\n",
    "Before you turn in your submission, make sure all problems with code run as expected. First, restart the kernel (in the menubar, select Kernel → Restart) and then run all cells (in the menubar, select Cell → Run All). Make sure you fill in any place that says YOUR CODE HERE.\n",
    "\n",
    "Best of luck! "
   ]
  },
  {
   "cell_type": "code",
   "execution_count": 94,
   "metadata": {},
   "outputs": [],
   "source": [
    "# Put your name here\n",
    "NAME = \"Wilson Le\""
   ]
  },
  {
   "cell_type": "markdown",
   "metadata": {},
   "source": [
    "## Problem 1 [15 points, 5 point each]\n",
    "In the cell below, write regular expression that match the patterns described below. It suffices to write your expression in a raw string (although you are welcome to test your pattern using the re Python package if you like). \n",
    "\n",
    "(a) Strings containing only 0 and 1 characters (binary strings) that are length at least three and the third character is a 0.\n",
    "\n",
    "(b) Strings containing only 0 and 1 characters that have at most 5 characters \n",
    "\n",
    "(c) All strings containing only 0 and 1 characters that are not 11 or 111. "
   ]
  },
  {
   "cell_type": "code",
   "execution_count": 95,
   "metadata": {
    "nbgrader": {
     "grade": false,
     "grade_id": "cell-20b4613ee391831a",
     "locked": false,
     "schema_version": 1,
     "solution": true
    }
   },
   "outputs": [
    {
     "name": "stdout",
     "output_type": "stream",
     "text": [
      "['00010101']\n",
      "['00010']\n",
      "['1111010']\n"
     ]
    }
   ],
   "source": [
    "\n",
    "import re\n",
    "\n",
    "targetA = \"\"\"00010101\"\"\"\n",
    "patternA = r\"^[0|1][0|1]0[0|1]*\"  # PATTERN FOR (a) \n",
    "print(re.findall(patternA, targetA))\n",
    "\n",
    "targetB = \"\"\"00010\"\"\"\n",
    "patternB = r\"^[0|1]{,5}$\"  # PATTERN FOR (b) \n",
    "print(re.findall(patternB, targetB))\n",
    "\n",
    "targetC =  \"\"\"1111010\"\"\"\n",
    "patternC = r\"^0$|^1$|^00$|^01$|^10$|^000$|^001$|^010$|^100$|^011$|^110$|^101$|[0|1]{4,}\" # PATTERN FOR (c) \n",
    "print(re.findall(patternC, targetC))"
   ]
  },
  {
   "cell_type": "markdown",
   "metadata": {},
   "source": [
    "## Problem 2 [10 points] \n",
    "\n",
    "Given the table below, write a single regular expression that matches all the items in the first column (the entirety of the match, but stopping before the trailing spaces) but none of those in the second column.  You **must** use matching of true patterns, looking at the similarities and differences between the two columns.  A disjunction of the literals in the first column will not be awarded any points.\n",
    "```python\n",
    "\"\"\"\n",
    "Match     | No Match\n",
    "--------------------\n",
    "pit       | pt\n",
    "spot      | Pot\n",
    "spate     | peat\n",
    "slap two  | part\n",
    "respite   | top it\n",
    "\"\"\"\n",
    "```\n"
   ]
  },
  {
   "cell_type": "code",
   "execution_count": 96,
   "metadata": {},
   "outputs": [
    {
     "name": "stdout",
     "output_type": "stream",
     "text": [
      "[('pit', 'spot', 'spate', 'slap two', 'respite')]\n"
     ]
    }
   ],
   "source": [
    "target = \"\"\"\n",
    "Match     | No Match\n",
    "--------------------\n",
    "pit       | pt\n",
    "spot      | Pot\n",
    "spate     | peat\n",
    "slap two  | part\n",
    "respite   | top it\n",
    "\"\"\"\n",
    "\n",
    "pattern = r\"-+\\n(\\w*).*\\n(\\w*).*\\n(\\w*).*\\n(\\w*\\s\\w*).*\\n(\\w*).*\\n\"  # PATTERN PROBLEM 2  \n",
    "\n",
    "print(re.findall(pattern, target))"
   ]
  },
  {
   "cell_type": "markdown",
   "metadata": {},
   "source": [
    "## Problem 3 [10 points] \n",
    "Write a regular expression pattern that matches 9 digit telephone numbers. The numbers will be formatted as `dddsdddsdddd` or `(ddd)sdddsdddd`, where `d` is a digit and `s` is a separator (space, period, or dash), e.g., `555 555.5555` or `(555) 555-5555`. Besides matching valid phone numbers, you should capture all three portions of the phone number---the area code, the three digit exchange prefix, and the four digit line number.\n"
   ]
  },
  {
   "cell_type": "code",
   "execution_count": 97,
   "metadata": {},
   "outputs": [],
   "source": [
    "pattern = r\"\\(?(\\d{3})\\)?\\s(\\d{3})[\\.|-](\\d{4})\""
   ]
  },
  {
   "cell_type": "markdown",
   "metadata": {},
   "source": [
    "### Tests for Problem 3\n",
    "Write 5 tests for your code above using assert statements. "
   ]
  },
  {
   "cell_type": "code",
   "execution_count": 98,
   "metadata": {},
   "outputs": [],
   "source": [
    "target1 = \"\"\"(555) 555-5555\"\"\"\n",
    "assert(re.findall(pattern, target1) == [('555', '555', '5555')])\n",
    "target2= \"\"\"555 555.5555\"\"\"\n",
    "assert(re.findall(pattern, target2) == [('555', '555', '5555')])\n",
    "target2= \"\"\"(321) 456-1234\"\"\"\n",
    "assert(re.findall(pattern, target2) == [('321', '456', '1234')])\n",
    "target2= \"\"\"321 456.1234\"\"\"\n",
    "assert(re.findall(pattern, target2) == [('321', '456', '1234')])\n",
    "target2= \"\"\"999 999.999\"\"\"\n",
    "assert(re.findall(pattern, target2) == [])"
   ]
  },
  {
   "cell_type": "markdown",
   "metadata": {},
   "source": [
    "## Problem 4 [10 points] \n",
    "Below is the poem \"The Raven\" written by the the American poet Edgar Allan Poe in 1845."
   ]
  },
  {
   "cell_type": "code",
   "execution_count": 99,
   "metadata": {},
   "outputs": [],
   "source": [
    "target = '''Once upon a midnight dreary, while I pondered, weak and weary,\n",
    "Over many a quaint and curious volume of forgotten lore—\n",
    "While I nodded, nearly napping, suddenly there came a tapping,\n",
    "As of some one gently rapping, rapping at my chamber door—\n",
    "\"'Tis some visitor,\" I muttered, \"tapping at my chamber door—\n",
    "               Only this and nothing more.\"\n",
    "\n",
    "Ah, distinctly I remember it was in the bleak December;\n",
    "And each separate dying ember wrought its ghost upon the floor.\n",
    "Eagerly I wished the morrow;—vainly I had sought to borrow\n",
    "From my books surcease of sorrow—sorrow for the lost Lenore—\n",
    "For the rare and radiant maiden whom the angels name Lenore—\n",
    "               Nameless here for evermore.\n",
    "\n",
    "And the silken, sad, uncertain rustling of each purple curtain\n",
    "Thrilled me—filled me with fantastic terrors never felt before;\n",
    "So that now, to still the beating of my heart, I stood repeating,\n",
    "\"'Tis some visitor entreating entrance at my chamber door—\n",
    "Some late visitor entreating entrance at my chamber door;—\n",
    "               This it is and nothing more.\"\n",
    "\n",
    "Presently my soul grew stronger; hesitating then no longer,\n",
    "\"Sir,\" said I, \"or Madam, truly your forgiveness I implore;\n",
    "But the fact is I was napping, and so gently you came rapping,\n",
    "And so faintly you came tapping, tapping at my chamber door,\n",
    "That I scarce was sure I heard you\"—here I opened wide the door;—\n",
    "               Darkness there and nothing more.\n",
    "\n",
    "Deep into that darkness peering, long I stood there wondering, fearing,\n",
    "Doubting, dreaming dreams no mortal ever dared to dream before;\n",
    "But the silence was unbroken, and the stillness gave no token,\n",
    "And the only word there spoken was the whispered word, \"Lenore?\"\n",
    "This I whispered, and an echo murmured back the word, \"Lenore!\"—\n",
    "               Merely this and nothing more.\n",
    "\n",
    "Back into the chamber turning, all my soul within me burning,\n",
    "Soon again I heard a tapping somewhat louder than before.\n",
    "\"Surely,\" said I, \"surely that is something at my window lattice;\n",
    "Let me see, then, what thereat is, and this mystery explore—\n",
    "Let my heart be still a moment and this mystery explore;—\n",
    "               'Tis the wind and nothing more!\"\n",
    "\n",
    "Open here I flung the shutter, when, with many a flirt and flutter,\n",
    "In there stepped a stately Raven of the saintly days of yore;\n",
    "Not the least obeisance made he; not a minute stopped or stayed he;\n",
    "But, with mien of lord or lady, perched above my chamber door—\n",
    "Perched upon a bust of Pallas just above my chamber door—\n",
    "               Perched, and sat, and nothing more.\n",
    "\n",
    "Then this ebony bird beguiling my sad fancy into smiling,\n",
    "By the grave and stern decorum of the countenance it wore,\n",
    "\"Though thy crest be shorn and shaven, thou,\" I said, \"art sure no craven,\n",
    "Ghastly grim and ancient Raven wandering from the Nightly shore—\n",
    "Tell me what thy lordly name is on the Night's Plutonian shore!\"\n",
    "               Quoth the Raven \"Nevermore.\"\n",
    "\n",
    "Much I marvelled this ungainly fowl to hear discourse so plainly,\n",
    "Though its answer little meaning—little relevancy bore;\n",
    "For we cannot help agreeing that no living human being\n",
    "Ever yet was blest with seeing bird above his chamber door—\n",
    "Bird or beast upon the sculptured bust above his chamber door,\n",
    "               With such name as \"Nevermore.\"\n",
    "\n",
    "But the Raven, sitting lonely on the placid bust, spoke only\n",
    "That one word, as if his soul in that one word he did outpour.\n",
    "Nothing further then he uttered—not a feather then he fluttered—\n",
    "Till I scarcely more than muttered \"Other friends have flown before—\n",
    "On the morrow he will leave me, as my hopes have flown before.\"\n",
    "               Then the bird said \"Nevermore.\"\n",
    "\n",
    "Startled at the stillness broken by reply so aptly spoken,\n",
    "\"Doubtless,\" said I, \"what it utters is its only stock and store\n",
    "Caught from some unhappy master whom unmerciful Disaster\n",
    "Followed fast and followed faster till his songs one burden bore—\n",
    "Till the dirges of his Hope that melancholy burden bore\n",
    "               Of 'Never—nevermore.'\"\n",
    "\n",
    "But the Raven still beguiling my sad fancy into smiling,\n",
    "Straight I wheeled a cushioned seat in front of bird, and bust and door;\n",
    "Then, upon the velvet sinking, I betook myself to linking\n",
    "Fancy unto fancy, thinking what this ominous bird of yore—\n",
    "What this grim, ungainly, ghastly, gaunt and ominous bird of yore\n",
    "               Meant in croaking \"Nevermore.\"\n",
    "\n",
    "This I sat engaged in guessing, but no syllable expressing\n",
    "To the fowl whose fiery eyes now burned into my bosom's core;\n",
    "This and more I sat divining, with my head at ease reclining\n",
    "On the cushion's velvet lining that the lamp-light gloated o'er,\n",
    "But whose velvet violet lining with the lamp-light gloating o'er,\n",
    "               She shall press, ah, nevermore!\n",
    "\n",
    "Then, methought, the air grew denser, perfumed from an unseen censer\n",
    "Swung by Seraphim whose foot-falls tinkled on the tufted floor.\n",
    "\"Wretch,\" I cried, \"thy God hath lent thee—by these angels he hath sent thee\n",
    "Respite—respite and nepenthe, from thy memories of Lenore;\n",
    "Quaff, oh quaff this kind nepenthe and forget this lost Lenore!\"\n",
    "               Quoth the Raven \"Nevermore.\"\n",
    "\n",
    "\"Prophet!\" said I, \"thing of evil!—prophet still, if bird or devil!—\n",
    "Whether Tempter sent, or whether tempest tossed thee here ashore,\n",
    "Desolate yet all undaunted, on this desert land enchanted—\n",
    "On this home by Horror haunted—tell me truly, I implore—\n",
    "Is there—is there balm in Gilead?—tell me—tell me, I implore!\"\n",
    "               Quoth the Raven \"Nevermore.\"\n",
    "\n",
    "\"Prophet!\" said I, \"thing of evil—prophet still, if bird or devil!\n",
    "By that Heaven that bends above us—by that God we both adore—\n",
    "Tell this soul with sorrow laden if, within the distant Aidenn,\n",
    "It shall clasp a sainted maiden whom the angels name Lenore—\n",
    "Clasp a rare and radiant maiden whom the angels name Lenore.\"\n",
    "               Quoth the Raven \"Nevermore.\"\n",
    "\n",
    "\"Be that word our sign in parting, bird or fiend!\" I shrieked, upstarting—\n",
    "\"Get thee back into the tempest and the Night's Plutonian shore!\n",
    "Leave no black plume as a token of that lie thy soul hath spoken!\n",
    "Leave my loneliness unbroken!—quit the bust above my door!\n",
    "Take thy beak from out my heart, and take thy form from off my door!\"\n",
    "               Quoth the Raven \"Nevermore.\"\n",
    "\n",
    "And the Raven, never flitting, still is sitting, still is sitting\n",
    "On the pallid bust of Pallas just above my chamber door;\n",
    "And his eyes have all the seeming of a demon's that is dreaming,\n",
    "And the lamp-light o'er him streaming throws his shadow on the floor;\n",
    "And my soul from out that shadow that lies floating on the floor\n",
    "               Shall be lifted—nevermore!'''"
   ]
  },
  {
   "cell_type": "markdown",
   "metadata": {},
   "source": [
    "Notice that in every stanza (except for the second), the last ends with the phrase \" and nothing more\" or the word \"Nevermore\". In the cell below, use the re package in Python to create a DoL with two columns, one column with header <code>\"Nothing More\"</code> and the other with column header <code>\"Nevermore\"</code>. The entries in the <code>Nothing More</code> column should contain all the phrases that appear before the phase \" and nothing more\": \n",
    "\n",
    "<code> ['Only this', 'This it is', 'Darkness there', 'Merely this', \"'Tis the wind\", 'Perched, and sat,'] </code>\n",
    "\n",
    "And likewise the <code>Nevermore</code> column should contain the following entries:\n",
    "\n",
    "<code>['Quoth the Raven', 'With such name as', 'Then the bird said', \"Of 'Never\", 'Meant in croaking', 'She shall press, ah,' 'Quoth the Raven', 'Quoth the Raven', 'Quoth the Raven', 'Quoth the Raven',  'Shall be lifted']</code>\n",
    "\n",
    "The phrases do not have appear in the same order as the poem (i.e., it's fine to make mulitple patterns and search the target over again), but the phrases should match the above lists in terms of which spaces, punctuation, etc. are included/excluded. "
   ]
  },
  {
   "cell_type": "markdown",
   "metadata": {},
   "source": []
  },
  {
   "cell_type": "code",
   "execution_count": 100,
   "metadata": {},
   "outputs": [
    {
     "name": "stdout",
     "output_type": "stream",
     "text": [
      "['Only this', 'This it is', 'Darkness there', 'Merely this', \"'Tis the wind\", 'Perched, and sat,']\n",
      "['Quoth the Raven ', 'With such name as ', 'Then the bird said ', \"Of 'Never\", 'Meant in croaking ', 'She shall press, ah,', 'Quoth the Raven ', 'Quoth the Raven ', 'Quoth the Raven ', 'Quoth the Raven ', 'Shall be lifted']\n"
     ]
    }
   ],
   "source": [
    "nothingMorePattern = r\".*\\n.*\\n.*\\n.*\\n.*\\n\\s+(.*)[\\s—]and nothing more.*\\n\"\n",
    "nevermorePattern = r\".*\\n.*\\n.*\\n.*\\n.*\\n\\s+(.*)[—|\\\"|\\s][nN]evermore[!|\\.|\\.']\"\n",
    "nothingMore = re.findall(nothingMorePattern, target)\n",
    "nevermore = re.findall(nevermorePattern, target)\n",
    "DOL = {}\n",
    "DOL[\"Nevermore\"] = nevermore;\n",
    "DOL[\"Nothing More\"] = nothingMore;\n",
    "print(nothingMore)\n",
    "print(nevermore)\n",
    "# print(DOL)"
   ]
  },
  {
   "cell_type": "code",
   "execution_count": null,
   "metadata": {},
   "outputs": [],
   "source": []
  }
 ],
 "metadata": {
  "celltoolbar": "Create Assignment",
  "interpreter": {
   "hash": "937ad08884dafedcb3ae5e60b5e232d067595c7eb460ec87b2cf88be37f4672a"
  },
  "kernelspec": {
   "display_name": "Python 3.9.7 64-bit (conda)",
   "name": "python3"
  },
  "language_info": {
   "codemirror_mode": {
    "name": "ipython",
    "version": 3
   },
   "file_extension": ".py",
   "mimetype": "text/x-python",
   "name": "python",
   "nbconvert_exporter": "python",
   "pygments_lexer": "ipython3",
   "version": "3.9.7"
  }
 },
 "nbformat": 4,
 "nbformat_minor": 2
}
