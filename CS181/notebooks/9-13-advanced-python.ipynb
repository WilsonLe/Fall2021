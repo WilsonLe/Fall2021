{
 "cells": [
  {
   "cell_type": "code",
   "execution_count": 1,
   "metadata": {},
   "outputs": [],
   "source": [
    "# Examples of Advanced Python Features\n",
    "# CS 181/CS 210, Fall 2021\n",
    "# Dr. Kell\n",
    "\n",
    "names = [\"Algorithm, Alice\", \"Binary, Bob\", \"Compiler, Cody\", \"Deterministic, Danny\", \"Exponential, Ellie\"]"
   ]
  },
  {
   "cell_type": "code",
   "execution_count": 2,
   "metadata": {},
   "outputs": [],
   "source": [
    "# General \"apply function\" function that formats elements in a list using function func\n",
    "def applyFunction(L, func):\n",
    "    ''' Applies function func to each element in L.'''\n",
    "    newL = []\n",
    "    for element in L:\n",
    "        newEle = func(element)\n",
    "        newL.append(newEle)\n",
    "    return newL "
   ]
  },
  {
   "cell_type": "code",
   "execution_count": 3,
   "metadata": {},
   "outputs": [],
   "source": [
    "# Functions that reformat strings containing names\n",
    "\n",
    "def switchNameOrder(name): \n",
    "    '''Given a name string with format \"Last, First\", returns \n",
    "     the string now with name formatting \"First Last\"'''\n",
    "    \n",
    "    splitName = name.split(\",\")\n",
    "    last = splitName[0]\n",
    "    first = splitName[1].strip()\n",
    "    return first + \" \" + last\n",
    "\n",
    "def shortenFirstName(name): \n",
    "    '''Given a name string in the format \"First Last\", returns \n",
    "     the string now with formatting \"<First Letter of First>. Last\"'''\n",
    "    \n",
    "    splitName = name.split(\" \")\n",
    "    first = splitName[0]\n",
    "    last = splitName[1]\n",
    "    return first[0] + \". \" + last"
   ]
  },
  {
   "cell_type": "code",
   "execution_count": 4,
   "metadata": {},
   "outputs": [
    {
     "name": "stdout",
     "output_type": "stream",
     "text": [
      "['Alice Algorithm', 'Bob Binary', 'Cody Compiler', 'Danny Deterministic', 'Ellie Exponential']\n",
      "['A. Algorithm', 'B. Binary', 'C. Compiler', 'D. Deterministic', 'E. Exponential']\n"
     ]
    }
   ],
   "source": [
    "# Reformatting names by passing above functions as parameters\n",
    "\n",
    "def main():\n",
    "    names1 = applyFunction(names, switchNameOrder)\n",
    "    print(names1)\n",
    "    \n",
    "    names2 = applyFunction(names1, shortenFirstName)\n",
    "    print(names2)\n",
    "\n",
    "main()"
   ]
  },
  {
   "cell_type": "code",
   "execution_count": 5,
   "metadata": {},
   "outputs": [
    {
     "name": "stdout",
     "output_type": "stream",
     "text": [
      "['Alice Algorithm', 'Bob Binary', 'Cody Compiler', 'Danny Deterministic', 'Ellie Exponential']\n",
      "['A. Algorithm', 'B. Binary', 'C. Compiler', 'D. Deterministic', 'E. Exponential']\n",
      "['a. algorithm', 'b. binary', 'c. compiler', 'd. deterministic', 'e. exponential']\n",
      "['a. algorithm', 'b. binary', 'c. compiler', 'D. DETERMINISTIC', 'e. exponential']\n"
     ]
    }
   ],
   "source": [
    "# Further filtering using lambda functions\n",
    "\n",
    "def main():\n",
    "      \n",
    "    # first apply the same two filtering operations we used above \n",
    "    names1 = applyFunction(names, switchNameOrder)\n",
    "    print(names1)\n",
    "    names2 = applyFunction(names1, shortenFirstName)\n",
    "    print(names2)\n",
    "    \n",
    "    # example of using lambda notation to define a function\n",
    "    lower = lambda s : s.lower() \n",
    "    names3 = applyFunction(names2, lower)\n",
    "    print(names3)\n",
    "    \n",
    "    # make anyone with lsat name 'deterministic' all caps\n",
    "    upperFilter = lambda s : s.upper() if s.split(\" \")[1] == \"deterministic\" else s \n",
    "    names4 = applyFunction(names3, upperFilter)\n",
    "    print(names4)\n",
    "    \n",
    "main()"
   ]
  },
  {
   "cell_type": "code",
   "execution_count": 6,
   "metadata": {},
   "outputs": [
    {
     "name": "stdout",
     "output_type": "stream",
     "text": [
      "['a. algorithm', 'b. binary', 'c. compiler', 'd. deterministic', 'e. exponential']\n",
      "['A. ALGORITHM', 'B. BINARY', 'C. COMPILER', 'E. EXPONENTIAL']\n"
     ]
    }
   ],
   "source": [
    "# Similar formatting/filtering but only using lambdas and list comprehension\n",
    "\n",
    "def main():\n",
    "    # first apply the same filtering we did above but using a lambda \n",
    "    formatString = lambda s : shortenFirstName(switchNameOrder(s)).lower() \n",
    "    namesFormatted = applyFunction(names, formatString)\n",
    "    print(namesFormatted)\n",
    "    \n",
    "    # filter \"deterministic\" names and make remaining names all caps using a list comprehension\n",
    "    namesFiltered = [name.upper() for name in namesFormatted if name[0] in name.split(\" \")[1] != \"deterministic\"]\n",
    "    print(namesFiltered)\n",
    "    \n",
    "main()"
   ]
  },
  {
   "cell_type": "code",
   "execution_count": null,
   "metadata": {},
   "outputs": [],
   "source": []
  }
 ],
 "metadata": {
  "kernelspec": {
   "display_name": "Python 3",
   "language": "python",
   "name": "python3"
  },
  "language_info": {
   "codemirror_mode": {
    "name": "ipython",
    "version": 3
   },
   "file_extension": ".py",
   "mimetype": "text/x-python",
   "name": "python",
   "nbconvert_exporter": "python",
   "pygments_lexer": "ipython3",
   "version": "3.7.3"
  }
 },
 "nbformat": 4,
 "nbformat_minor": 2
}
