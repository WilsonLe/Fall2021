{
 "cells": [
  {
   "cell_type": "markdown",
   "metadata": {},
   "source": [
    "## Homework 2\n",
    "CS 181-01, Fall 2021 <br>\n",
    "Dr. Kell\n",
    "\n",
    "Before you turn in your submission, make sure everything runs as expected. First, restart the kernel (in the menubar, select Kernel → Restart) and then run all cells (in the menubar, select Cell → Run All). Make sure you fill in any place that says YOUR CODE HERE.\n",
    "\n",
    "**IMPORTANT: If you have seen any of these problems or the algorithms necessary to solve them in a previous class, do not consult these references/notes when attempting these problems below!**\n",
    "\n",
    "Best of luck! "
   ]
  },
  {
   "cell_type": "code",
   "execution_count": 1,
   "metadata": {},
   "outputs": [],
   "source": [
    "# Put your name here\n",
    "NAME = \"Wilson Le\""
   ]
  },
  {
   "cell_type": "markdown",
   "metadata": {},
   "source": [
    "## Problem 1 [10 points] \n",
    "Consider a scenario where we want to store a collection of numbers that has several duplicates, but the number of elements in the list is too large to store directly in memory. Therefore instead of storing the entire list, we instead decide to maintain a frequency table of its elements.\n",
    "For example, if the original list was <code>L = [1, 3, 2, 2, 1, 5, 5, 4, 1, 1]</code>, we would now represent\n",
    "the list as the following dictionary: <code>consiseL = {1:4, 3:1, 2:2, 5:2, 4:1}</code>\n",
    "\n",
    "Write a function <code>mean(conciseL)</code> that takes in the <code>conciseL</code> representation of the list <code>L</code> and returns its mean. Your function must have a full docstring comment block in order to receive full credit. "
   ]
  },
  {
   "cell_type": "code",
   "execution_count": 1,
   "metadata": {
    "nbgrader": {
     "grade": false,
     "grade_id": "cell-20b4613ee391831a",
     "locked": false,
     "schema_version": 1,
     "solution": true
    }
   },
   "outputs": [],
   "source": [
    "def mean(conciseL):\n",
    "\t\"\"\"calculate the mean value of the input concise list\n",
    "\n",
    "\tArgs:\n",
    "\t\tconciseL (Dict): input consise list, displaying the frequency of\n",
    "\t\teach value\n",
    "\n",
    "\tReturns:\n",
    "\t\tfloat: the mean value of all values in input list\n",
    "\t\"\"\"\n",
    "\ttotal = 0\n",
    "\tcount = 0\n",
    "\tfor key in conciseL:\n",
    "\t\tvalue = conciseL[key]\n",
    "\t\tcount += conciseL[key]\n",
    "\t\ttotal += value * key\n",
    "\treturn float(total / count)"
   ]
  },
  {
   "cell_type": "markdown",
   "metadata": {
    "collapsed": true,
    "nbgrader": {
     "grade": true,
     "grade_id": "cell-82f740dc2e34d9f0",
     "locked": true,
     "points": 2,
     "schema_version": 1,
     "solution": false
    }
   },
   "source": [
    "### Tests for Problem 1\n",
    "Write at least five test cases for your code using assert statements as we did in class."
   ]
  },
  {
   "cell_type": "code",
   "execution_count": 2,
   "metadata": {},
   "outputs": [
    {
     "output_type": "stream",
     "name": "stdout",
     "text": [
      "All Tests Passed\n"
     ]
    }
   ],
   "source": [
    "assert mean({1: 1, 2: 1, 3: 1}) == 2, \"Test 1 Failed\"\n",
    "assert mean({3: 1, 5: 1, 7: 1}) == 5, \"Test 2 Failed\"\n",
    "assert mean({2: 3, 4: 3, 6: 3}) == 4, \"Test 3 Failed\"\n",
    "assert mean({-3: 2, -1: 2, 1: 2}) == -1, \"Test 4 Failed\"\n",
    "assert mean({10: 5, 15: 5, 20: 5}) == 15, \"Test 5 Failed\"\n",
    "print(\"All Tests Passed\")"
   ]
  },
  {
   "cell_type": "markdown",
   "metadata": {},
   "source": [
    "## Problem 2 [10 points]\n",
    "Given the same setup as Problem 1, write a function <code>median(conciseL)</code> that takes in the <code>conciseL</code> representation of the list <code>L</code> and returns its median. Your function must have a full docstring comment block in order to receive full credit. You are permitted to use built-in sorting utilities in Python (e.g., the built-in <code>sorted()</code> function.) "
   ]
  },
  {
   "cell_type": "code",
   "execution_count": null,
   "metadata": {},
   "outputs": [],
   "source": [
    "def median(conciseL:dict):\n",
    "\t\"\"\"calculate the median value of the input concise list\n",
    "\n",
    "\tArgs:\n",
    "\t\t\tconciseL (Dict): input concise list, storing frequency of each value\n",
    "\n",
    "\tReturns:\n",
    "\t\t\tfloat: the median of all values in input list\n",
    "\t\"\"\"\n",
    "\tcount = 0\n",
    "\tfor key in conciseL.keys():\n",
    "\t\tcount += conciseL[key]\n",
    "\thalf_count = count / 2\n",
    "\ti = 0\n",
    "\twhile count > half_count:\n",
    "\t\tkey = list(conciseL.keys())[i]\n",
    "\t\tcount -= conciseL[key]\n",
    "\t\ti += 1\n",
    "\tif count == half_count:\n",
    "\t\treturn float((list(conciseL.keys())[i] + list(conciseL.keys())[i-1]) / 2)\n",
    "\treturn float(list(conciseL.keys())[i-1])"
   ]
  },
  {
   "cell_type": "markdown",
   "metadata": {},
   "source": [
    "### Tests for Problem 2\n",
    "Write at least five test cases for your code using assert statements as we did in class."
   ]
  },
  {
   "cell_type": "code",
   "execution_count": null,
   "metadata": {},
   "outputs": [],
   "source": [
    "assert median({1: 1, 2: 1, 3: 1}) == 2, \"Test 1 Failed\"\n",
    "assert median({3: 1, 5: 1, 7: 1}) == 5, \"Test 2 Failed\"\n",
    "assert median({2: 3, 4: 3, 6: 3}) == 4, \"Test 3 Failed\"\n",
    "assert median({-3: 1, -1: 2, 1: 3}) == 0, \"Test 4 Failed\"\n",
    "assert median({10: 2, 15: 4, 20: 6}) == 17.5, \"Test 5 Failed\"\n",
    "print(\"All Tests Passed\")"
   ]
  },
  {
   "cell_type": "markdown",
   "metadata": {},
   "source": [
    "## Problem 3 [10 points] \n",
    "Write a function <code>moveToList(nameFreq, nameList)</code> that takes in a dictionary <code>nameFreq</code> that maps names (represented as strings) to their frequency (represented as ints) and a list nameList that is initially empty. The function does not return anything, but after the function executes every name that appears in nameFreq should be contained in <code>nameList</code>. Furthermore, the frequency of every name in <code>nameFreq</code> should be decremented by 1. Your function must have a full docstring comment block in order to receive full credit. "
   ]
  },
  {
   "cell_type": "code",
   "execution_count": 6,
   "metadata": {},
   "outputs": [],
   "source": [
    "def moveToList(nameFreq:dict, nameList:list):\n",
    "\t\"\"\"move every name in input nameFreq dictionary once to nameList list.\n",
    "\n",
    "\tArgs:\n",
    "\t\t\tnameFreq (dict): input dictionary storing frequency of names\n",
    "\t\t\tnameList (list): input list storing all name in input dictionary\n",
    "\t\"\"\"\n",
    "\tremoveName = []\n",
    "\tfor name in nameFreq.keys():\n",
    "\t\tnameList.append(name)\n",
    "\t\tnameFreq[name] -= 1\n",
    "\t\tif nameFreq[name] == 0:\n",
    "\t\t\tremoveName.append(name)\n",
    "\tfor name in removeName:\n",
    "\t\tnameFreq.pop(name)"
   ]
  },
  {
   "cell_type": "markdown",
   "metadata": {},
   "source": [
    "### Tests for Problem 3\n",
    "Write at least five test cases for your code using assert statements as we did in class."
   ]
  },
  {
   "cell_type": "code",
   "execution_count": 8,
   "metadata": {},
   "outputs": [
    {
     "output_type": "stream",
     "name": "stdout",
     "text": [
      "All Tests Passed\n"
     ]
    }
   ],
   "source": [
    "D = {\"alice\" : 10, \"bob\" : 15, \"nat\" : 20}\n",
    "L = []\n",
    "moveToList(D,L)\n",
    "assert D == {\"alice\" : 9, \"bob\" : 14, \"nat\" : 19} and L == [\"alice\", \"bob\", \"nat\"], \"Test 0 failed\"\n",
    "\n",
    "D = {\"minh\":1, \"wilson\":2, \"le\":3}\n",
    "L = []\n",
    "moveToList(D,L)\n",
    "assert D == {\"wilson\":1, \"le\":2} and L == ['minh', 'wilson', 'le'], \"Test 1 failed\"\n",
    "\n",
    "D = {\"a\":2, \"b\":3, \"c\":4}\n",
    "L = []\n",
    "moveToList(D,L)\n",
    "assert D == {\"a\":1, \"b\":2, \"c\": 3} and L == ['a', 'b', 'c'], \"Test 2 failed\"\n",
    "\n",
    "D = {\"d\":1}\n",
    "L = []\n",
    "moveToList(D,L)\n",
    "assert D == {} and L == ['d'], \"Test 3 failed\"\n",
    "\n",
    "D = {}\n",
    "L = []\n",
    "moveToList(D,L)\n",
    "assert D == {} and L == [], \"Test 4 failed\"\n",
    "\n",
    "D = {\"d\": 5, \"e\": 7, \"f\": 10}\n",
    "L = []\n",
    "moveToList(D,L)\n",
    "assert D == {\"d\": 4, \"e\": 6, \"f\": 9} and L == [\"d\", \"e\", \"f\"], \"Test 4 failed\"\n",
    "print(\"All Tests Passed\")"
   ]
  },
  {
   "cell_type": "markdown",
   "metadata": {},
   "source": [
    "## Problem 4 [10 points] \n",
    "Write a function called <code>LolToDoL(lol)</code> that converts some data from a list of lists representation to a list of dictionaries representation. The input will consist of the list of lists and the list of attributes. The output should be a dictionary of lists. For example, for the input pair <code>([['Alice', 17], ['Bob', 15]], [['name', 'age']] )</code> the function should return <code>{'name':[['Alice', 'Bob']], 'age':[[17, 15]]}</code>. Your function must have a full docstring comment block in order to receive full credit. \n"
   ]
  },
  {
   "cell_type": "code",
   "execution_count": 12,
   "metadata": {},
   "outputs": [],
   "source": [
    "LoL = list[list]\n",
    "Attribute = list[str]\n",
    "DoL = dict[str, list]\n",
    "def LolToDoL(lol: LoL, attributes: Attribute):\n",
    "\t\"\"\"transform an input list of list and its list of keys into a dictionary of list, storing lists of the keys' values\n",
    "\n",
    "\tArgs:\n",
    "\t\t\tlol (LoL): input list of list\n",
    "\t\t\tattributes (Attribute): input list that stores keys of the input list of list\n",
    "\n",
    "\tReturns:\n",
    "\t\t\tdol (DoL): output dictionary of list\n",
    "\t\"\"\"\n",
    "\tdol:DoL = {}\n",
    "\tfor attribute in attributes:\n",
    "\t\tdol[attribute] = []\n",
    "\tfor i in range(0, len(lol), 2):\n",
    "\t\tfor j in range(len(attributes)):\n",
    "\t\t\tattribute = attributes[j]\n",
    "\t\t\tdol[attribute].append(lol[i+j])\n",
    "\treturn dol"
   ]
  },
  {
   "cell_type": "markdown",
   "metadata": {},
   "source": [
    "### Tests for Problem 4\n",
    "Write at least five additional test cases for your code using assert statements as we did in class. "
   ]
  },
  {
   "cell_type": "code",
   "execution_count": 16,
   "metadata": {},
   "outputs": [
    {
     "output_type": "stream",
     "name": "stdout",
     "text": [
      "All Tests Passed\n"
     ]
    }
   ],
   "source": [
    "output = LolToDoL(['Alice', 17, 'Bob', 15], ['name', 'age'] )\n",
    "assert output == {'name': ['Alice', 'Bob'], 'age': [17, 15]}, \"Test 0 failed\"\n",
    "\n",
    "output = LolToDoL(['apple', 0.5, 'orange', 0.4], ['fruit', 'weight'] )\n",
    "assert output == {'fruit': ['apple', 'orange'], 'weight': [0.5, 0.4]}, \"Test 1 failed\"\n",
    "\n",
    "output = LolToDoL(['Wilson', 180, 'Le', 175], ['name', 'height'] )\n",
    "assert output == {'name': ['Wilson', 'Le'], 'height': [180, 175]}, \"Test 2 failed\"\n",
    "\n",
    "output = LolToDoL(['a', 3, 'b', 4], ['value', 'freq'] )\n",
    "assert output == {'value': ['a', 'b'], 'freq': [3, 4]}, \"Test 3 failed\"\n",
    "\n",
    "output = LolToDoL(['water', 2, 'coke', 1], ['item', 'price'] )\n",
    "assert output == {'item': ['water', 'coke'], 'price': [2, 1]}, \"Test 4 failed\"\n",
    "\n",
    "output = LolToDoL(['waffle', 4, 'donut', 2], ['food', 'price'] )\n",
    "assert output == {'food': ['waffle', 'donut'], 'price': [4, 2]}, \"Test 5 failed\"\n",
    "\n",
    "print(\"All Tests Passed\")"
   ]
  },
  {
   "cell_type": "markdown",
   "metadata": {},
   "source": [
    "##  Challenge Problem 1 [3 points Extra Credit]\n",
    "\n",
    "In this problem, you'll use an example encoded/decoded message to decode an encoded secret message.\n",
    "\n",
    "More specifically, as input the function is given two strings <code>exampleEncoded</code> and <code>exampleDecoded</code>\n",
    "where the former is the encoded version of the latter. \n",
    "Additionally, you are given a secret encoded message <code>mysteryEncoded</code> (which your function is tasked with decoding). Furthermore, you can assume that the encoding scheme simply uses a 1-to-1 correspondence between characters. \n",
    "Therefore, looking at <code>exampleEncoded</code>, we can see which characters they map to in\n",
    "<code>exampleDecoded</code> and then use this mapping to directly decipher <code>mysteryEncoded</code>.\n",
    "\n",
    "For example, suppose <code>exampleEncoded</code> and <code>exampleDecoded</code> are <code>\"rovvyley!vnj\"</code> and <code>\"hello world!\"</code>, respectively, and our secreted encoded message is <code>\"eyej\"</code>. \n",
    "Then, looking at our examples, we can see that <code>\"e\"</code> maps to <code>\"w\"</code> (the 7th characters of each respectively), and therefore the first and third characters in the secret message must decode to be <code>\"w\"</code>. \n",
    "Similarly, we can see that <code>\"y\"</code> maps to <code>\"o\"</code>, and <code>\"j\"</code> maps to <code>\"!\"</code>. Therefore, the secret message once decoded is <code>\"wow!\"</code>.\n",
    "\n",
    "\n",
    "Write a function <code>secretMessage(exampleEncoded, exampleDecoded, mysteryEncoded)</code>\n",
    "that returns the string that is <code>mysteryEncoded</code> once deciphered. \n",
    "You may assume all characters that appear in the mystery decoded string also appear in <code>exampleDecoded</code>\n",
    "(otherwise, you would not have enough information to completely decipher the message). "
   ]
  },
  {
   "cell_type": "code",
   "execution_count": 17,
   "metadata": {
    "nbgrader": {
     "grade": true,
     "grade_id": "cell-b807c70b3baa1249",
     "locked": false,
     "points": 2,
     "schema_version": 1,
     "solution": true
    }
   },
   "outputs": [],
   "source": [
    "def secretMessage(exampleEncoded:str, exampleDecoded:str, mysteryEncoded:str):\n",
    "\t\"\"\"decode the input mystery string given a pair of encode/decode example\n",
    "\n",
    "\tArgs:\n",
    "\t\t\texampleEncoded (str): example input encoded string\n",
    "\t\t\texampleDecoded (str): example input decoded\n",
    "\t\t\tmysteryEncoded (str): mystery encoded string that needs decoding\n",
    "\n",
    "\tReturns:\n",
    "\t\t\tstr: decoded mystery string\n",
    "\t\"\"\"\n",
    "\tmysteryDecoded = \"\"\n",
    "\tfor char in mysteryEncoded:\n",
    "\t\tfor i in range(len(exampleEncoded)):\n",
    "\t\t\tif exampleEncoded[i] == char:\n",
    "\t\t\t\tmysteryDecoded += exampleDecoded[i]\n",
    "\t\t\t\tbreak;\n",
    "\treturn mysteryDecoded"
   ]
  },
  {
   "cell_type": "markdown",
   "metadata": {},
   "source": [
    "### Tests for Challenge Problem 1\n",
    "Write at least five test cases for your code using assert statements as we did in class. "
   ]
  },
  {
   "cell_type": "code",
   "execution_count": 18,
   "metadata": {
    "nbgrader": {
     "grade": true,
     "grade_id": "cell-9d7442a6014e5a02",
     "locked": false,
     "points": 2,
     "schema_version": 1,
     "solution": true
    }
   },
   "outputs": [
    {
     "output_type": "stream",
     "name": "stdout",
     "text": [
      "All Tests Passed\n"
     ]
    }
   ],
   "source": [
    "output = secretMessage(\"rovvyley!vnj\", \"hello world!\", \"eyej\")\n",
    "assert output == \"wow!\", \"Test 0 Failed\"\n",
    "\n",
    "output = secretMessage(\"jnv!yelyvvor\", \"!dlrow olleh\", \"jeye\")\n",
    "assert output == \"!wow\", \"Test 1 Failed\"\n",
    "\n",
    "output = secretMessage(\"aqbrh!\", \"wilson\", \"b!a\")\n",
    "assert output == \"lnw\", \"Test 2 Failed\"\n",
    "\n",
    "output = secretMessage(\"qtzv4\", \"minh!\", \"qtz4\")\n",
    "assert output == \"min!\", \"Test 3 Failed\"\n",
    "\n",
    "output = secretMessage(\"\", \"\", \"\")\n",
    "assert output == \"\", \"Test 4 Failed\"\n",
    "\n",
    "output = secretMessage(\"hello world!\", \"hello world!\", \"hello\")\n",
    "assert output == \"hello\", \"Test 5 Failed\"\n",
    "\n",
    "print(\"All Tests Passed\")"
   ]
  },
  {
   "cell_type": "markdown",
   "metadata": {},
   "source": [
    "## Challenge Problem 2 [3 points Extra Credit]\n",
    "Given a DoL representation, write a function <code>removeFromDoL(DoL)</code> that removes any row that contains <code>element</code> as at least one of its entries (i.e., the *entire* row should be removed). The function does not return anything, but upon return should update DoL so that all such rows have been removed."
   ]
  },
  {
   "cell_type": "code",
   "execution_count": 1,
   "metadata": {},
   "outputs": [],
   "source": [
    "DoL = dict[str, list]\n",
    "LoD = list[dict]\n",
    "def removeFromDoL(dol:DoL, element):\n",
    "\t\"\"\"remove a row that contains input element from an input dictionary of list\n",
    "\n",
    "\tArgs:\n",
    "\t\t\tdol (DoL): input dictionary of list\n",
    "\t\t\telement: element to be removed from dict\n",
    "\t\"\"\"\n",
    "\tfirstKey = list(dol.keys())[0]\n",
    "\tremoveIndex = []\n",
    "\tfor i in range(len(dol[firstKey])):\n",
    "\t\tfor key in dol.keys():\n",
    "\t\t\tvalue = dol[key][i]\n",
    "\t\t\tif element == value:\n",
    "\t\t\t\tremoveIndex.append(i)\n",
    "\tfor i in removeIndex:\n",
    "\t\tfor key in dol.keys():\n",
    "\t\t\tdol[key].pop(i)"
   ]
  },
  {
   "cell_type": "markdown",
   "metadata": {},
   "source": [
    "### Tests for Challenge Problem 2\n",
    "Write at least five test cases for your code using assert statements as we did in class."
   ]
  },
  {
   "cell_type": "code",
   "execution_count": 2,
   "metadata": {},
   "outputs": [
    {
     "output_type": "stream",
     "name": "stdout",
     "text": [
      "All Tests Passed\n"
     ]
    }
   ],
   "source": [
    "D = {\"name\": [\"wilson\", \"le\", \"minh\"], \"age\": [18, 19, 20]}\n",
    "removeFromDoL(D, \"wilson\")\n",
    "assert D == {'name': ['le', 'minh'], 'age': [19, 20]}, \"Test 1 Failed\"\n",
    "\n",
    "D = {\"fruit\": [\"apple\", \"orrage\", \"mango\"], \"price\": [1, 2, 3]}\n",
    "removeFromDoL(D, 1)\n",
    "assert D == {'fruit': ['orrage', 'mango'], 'price': [2, 3]}, \"Test 2 Failed\"\n",
    "\n",
    "D = {\"food\": [\"pie\", \"chocolate\", \"candy\"], \"calorie\": [400, 100, 25]}\n",
    "removeFromDoL(D, \"chocolate\")\n",
    "assert D == {'food': ['pie', 'candy'], 'calorie': [400, 25]}, \"Test 3 Failed\"\n",
    "\n",
    "D = {\"vehicle\": [\"plane\", \"car\", \"train\"], \"mass\": [10000, 2000, 15000]}\n",
    "removeFromDoL(D, \"plane\")\n",
    "assert D == {'vehicle': ['car', 'train'], 'mass': [2000, 15000]}, \"Test 4 Failed\"\n",
    "\n",
    "D = {\"city\": [\"Chicago\", \"New York\", \"San Francisco\"], \"population\": [2700000, 19000000, 800000]}\n",
    "removeFromDoL(D, \"Chicago\")\n",
    "assert D == {'city': ['New York', 'San Francisco'], 'population': [19000000, 800000]}, \"Test 5 Failed\"\n",
    "print(\"All Tests Passed\")"
   ]
  },
  {
   "cell_type": "code",
   "execution_count": null,
   "metadata": {},
   "outputs": [],
   "source": []
  }
 ],
 "metadata": {
  "celltoolbar": "Create Assignment",
  "kernelspec": {
   "display_name": "Python 3 (ipykernel)",
   "language": "python",
   "name": "python3"
  },
  "language_info": {
   "codemirror_mode": {
    "name": "ipython",
    "version": 3
   },
   "file_extension": ".py",
   "mimetype": "text/x-python",
   "name": "python",
   "nbconvert_exporter": "python",
   "pygments_lexer": "ipython3",
   "version": "3.9.2"
  }
 },
 "nbformat": 4,
 "nbformat_minor": 2
}