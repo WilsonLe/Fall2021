{
 "cells": [
  {
   "cell_type": "markdown",
   "metadata": {},
   "source": [
    "## Lab 3\n",
    "CS 181-01, Fall 2021 <br>\n",
    "Dr. Kell\n",
    "\n",
    "Before you turn in your submission, make sure everything runs as expected. First, restart the kernel (in the menubar, select Kernel → Restart) and then run all cells (in the menubar, select Cell → Run All). Make sure you fill in any place that says YOUR CODE HERE.\n",
    "\n",
    "This lab should be completed with a partner. You are free to work together as much as you like, but both of you will make seperate assignment submissions on Notebowl. The lab is due Monday 11/1/21 at midnight (11:59pm)."
   ]
  },
  {
   "cell_type": "code",
   "execution_count": null,
   "metadata": {},
   "outputs": [],
   "source": [
    "# Put your and your partner's name here\n",
    "NAME = \"Wilson Le\""
   ]
  },
  {
   "cell_type": "markdown",
   "metadata": {},
   "source": [
    "## Part 1 [10 points] \n",
    "In the cell below, write code that reads in the <code>indicators.json</code> as a DoD. Then, update the DoD such that each (code, year) entry that contains data on both gdp and population is now updated to contain a \"GDP per population\" field (named <code>gdp-per-population</code>). Use the <code>round()</code> function to round this data to  two decimal places. Then have your code write this updated DoD out to a new JSON file titled <code>indicators-updated.json</code>. "
   ]
  },
  {
   "cell_type": "code",
   "execution_count": 17,
   "metadata": {
    "nbgrader": {
     "grade": false,
     "grade_id": "cell-20b4613ee391831a",
     "locked": false,
     "schema_version": 1,
     "solution": true
    }
   },
   "outputs": [],
   "source": [
    "import json\n",
    "import pandas as pd\n",
    "\n",
    "dod = {}\n",
    "with open ('indicators.json', 'r') as f:\n",
    "\tdod = json.load(f)\n",
    "\n",
    "for code in dod:\n",
    "\tfor year in dod[code]:\n",
    "\t\tentry = dod[code][year]\n",
    "\t\tif \"pop\" in entry and \"gdp\" in entry:\n",
    "\t\t\tentry['gdp-per-population'] = round(entry['gdp'] / entry['pop'], 2)\n",
    "\n",
    "with open('indicators-updated.json', 'w') as f:\n",
    "\tjson.dump(dod, f)"
   ]
  },
  {
   "cell_type": "markdown",
   "metadata": {},
   "source": [
    "## Part 2 [10 Points]\n",
    "To verify that you correctly updated the indicators JSON file, in the cell below read in the <code>indicators-updated.json</code> file that you created in Part 1, and then convert  the resulting DoD into a pandas Data Frame. (You may use the function <code>dodToLod(dod)</code> we wrote this week in class). Then, display the first 20 row entries of the USA subtable. Verify that the <code>gpd-per-pop</code> field has been added to the table, and that this data has been correctly added to the USA subtable. (As a benchmark, <code>gpd-per-pop</code> for 1960, 1961, and 1962 in the USA should be 3.01, 3.07, and 3.24, respectively).      "
   ]
  },
  {
   "cell_type": "code",
   "execution_count": 27,
   "metadata": {},
   "outputs": [
    {
     "name": "stdout",
     "output_type": "stream",
     "text": [
      "      code  year     pop  life  cell      gdp  gdp-per-population   imports  \\\n",
      "12036  USA  1960  180.67  69.8   0.0   543.30                3.01   16170.7   \n",
      "12037  USA  1961  183.69  70.3   NaN   563.30                3.07   15738.6   \n",
      "12038  USA  1962  186.54  70.1   NaN   605.10                3.24   17522.9   \n",
      "12039  USA  1963  189.24  69.9   NaN   638.60                3.37   18374.9   \n",
      "12040  USA  1964  191.89  70.2   NaN   685.80                3.57   20078.5   \n",
      "12041  USA  1965  194.30  70.2   0.0   743.70                3.83   22912.9   \n",
      "12042  USA  1966  196.56  70.2   NaN   815.00                4.15   27730.3   \n",
      "12043  USA  1967  198.71  70.6   NaN   861.70                4.34   28748.3   \n",
      "12044  USA  1968  200.71  70.0   NaN   942.50                4.70   35359.3   \n",
      "12045  USA  1969  202.68  70.5   NaN  1019.90                5.03   38400.9   \n",
      "12046  USA  1970  205.05  70.8   0.0  1073.30                5.23   42692.5   \n",
      "12047  USA  1971  207.66  71.1   NaN  1164.85                5.61   48743.1   \n",
      "12048  USA  1972  209.90  71.2   NaN  1279.11                6.09   59337.0   \n",
      "12049  USA  1973  211.91  71.4   NaN  1425.38                6.73   74288.6   \n",
      "12050  USA  1974  213.85  72.0   NaN  1545.24                7.23  110107.0   \n",
      "12051  USA  1975  215.97  72.6   0.0  1684.90                7.80  105516.0   \n",
      "12052  USA  1976  218.04  72.9   0.0  1873.41                8.59  132224.0   \n",
      "12053  USA  1977  220.24  73.3   0.0  2081.83                9.45  160441.0   \n",
      "12054  USA  1978  222.58  73.4   0.0  2351.60               10.57  186068.0   \n",
      "12055  USA  1979  225.06  73.8   0.0  2627.33               11.67  222399.0   \n",
      "\n",
      "        exports  \n",
      "12036   20535.0  \n",
      "12037   20959.0  \n",
      "12038   21616.0  \n",
      "12039   23275.0  \n",
      "12040   26484.0  \n",
      "12041   27374.8  \n",
      "12042   30404.4  \n",
      "12043   31561.4  \n",
      "12044   34564.6  \n",
      "12045   37962.0  \n",
      "12046   43218.8  \n",
      "12047   44142.6  \n",
      "12048   49812.5  \n",
      "12049   71428.7  \n",
      "12050   98597.7  \n",
      "12051  107695.0  \n",
      "12052  115105.0  \n",
      "12053  121348.0  \n",
      "12054  143814.0  \n",
      "12055  182065.0  \n"
     ]
    }
   ],
   "source": [
    "def dod2lod(dod):\n",
    "\tlod = []\n",
    "\tfor code in dod:\n",
    "\t\tfor year in dod[code]:\n",
    "\t\t\td = {}\n",
    "\t\t\td[\"code\"] = code\n",
    "\t\t\td[\"year\"] = year\n",
    "\t\t\tfor stat in dod[code][year]:\n",
    "\t\t\t\td[stat] = dod[code][year][stat]\n",
    "\t\t\tlod.append(d)\n",
    "\treturn lod\n",
    "\n",
    "dod = {}\n",
    "with open('indicators-updated.json', 'r') as f:\n",
    "\tdod = json.load(f)\n",
    "lod = dod2lod(dod)\n",
    "df = pd.DataFrame(lod)\n",
    "dfUSA = df[df[\"code\"] == \"USA\"]\n",
    "print(dfUSA.head(20))\n"
   ]
  },
  {
   "cell_type": "markdown",
   "metadata": {},
   "source": [
    "## Part 3 [3 Points EC if Correct]\n",
    " \n",
    "Using the in-class code and Parts 1 and 2 as starting points, write code that does the following in the cell below:\n",
    " \n",
    "* First, read in the <code>indicators.json</code> file as a DoD (in the same way you did for Part 1).\n",
    "* Next, modify the DoD so that the <code>gpd</code> key in the bottom level dictionary now maps to a sub-dictionary that contains four different keys: <code>gdp, gdp-per-population, inflated-gdp</code>, and <code>inflated-gdp-per-population</code>, each of which mapping to their respective values. You should account for inflation using the same method used in the in-class code (i.e., 3% increase per year going backwards in time). \n",
    "* Finally, use this modified DoD to construct a pandas Data Frame that contains the subtable for US data whose column headers are each of the gdp categories you added in the above step. You may accomplish this task using whatever method you like (e.g., you could perhap modify the  <code>dodToLod()</code> function to output a LoD that corresponds to only this \"USA gdp subtable\", or perhaps you could convert the whole table to a Data Frame and then use pandas operation to select for the desired subtable, or perhaps you could use some combination of the two methods, etc.) "
   ]
  },
  {
   "cell_type": "code",
   "execution_count": null,
   "metadata": {},
   "outputs": [],
   "source": [
    "# YOUR CODE HERE "
   ]
  }
 ],
 "metadata": {
  "celltoolbar": "Create Assignment",
  "interpreter": {
   "hash": "937ad08884dafedcb3ae5e60b5e232d067595c7eb460ec87b2cf88be37f4672a"
  },
  "kernelspec": {
   "display_name": "Python 3.9.7 64-bit (conda)",
   "name": "python3"
  },
  "language_info": {
   "codemirror_mode": {
    "name": "ipython",
    "version": 3
   },
   "file_extension": ".py",
   "mimetype": "text/x-python",
   "name": "python",
   "nbconvert_exporter": "python",
   "pygments_lexer": "ipython3",
   "version": "3.9.7"
  }
 },
 "nbformat": 4,
 "nbformat_minor": 2
}
