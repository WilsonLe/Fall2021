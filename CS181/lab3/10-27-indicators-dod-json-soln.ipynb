{
 "cells": [
  {
   "cell_type": "code",
   "execution_count": null,
   "metadata": {},
   "outputs": [],
   "source": [
    "# code that builds a DoD from indicators table\n",
    "\n",
    "# indices of entries in the table \n",
    "_code = 0\n",
    "_year = 1\n",
    "_pop = 3\n",
    "_gdp = 4 \n",
    "_life = 5\n",
    "\n",
    "indicators = open(\"indicators.csv\", \"r\")\n",
    "dod = {}\n",
    "first = indicators.readline()  # read off first line \n",
    "for line in indicators:\n",
    "    rowList = line.split(',')\n",
    "    if len(rowList) != 7:       # discard countries with extra commas in names\n",
    "        continue\n",
    "    code = rowList[_code]       # get code and year\n",
    "    year = rowList[_year]  \n",
    "    \n",
    "    # build \"inner\" dictionary with each indicator mapping\n",
    "    incDict = {}\n",
    "    typeFilter = lambda entry: float(entry) if entry != \"\" else \"\"\n",
    "    incDict[\"pop\"] = typeFilter(rowList[_pop])\n",
    "    incDict[\"gdp\"] =  typeFilter(rowList[_gdp])\n",
    "    incDict[\"life\"] = typeFilter(rowList[_life])\n",
    "    \n",
    "    # add code and year links into the dod (add code link first if it does not exist)\n",
    "    if code not in dod:\n",
    "        dod[code] = {}\n",
    "    dod[code][year] = incDict \n",
    "\n",
    "print(dod)"
   ]
  },
  {
   "cell_type": "code",
   "execution_count": null,
   "metadata": {},
   "outputs": [],
   "source": [
    "def dodToLod(dod):\n",
    "    ''' Converts a dod into a lod structure for indicators table, where rows are indexed\n",
    "        by the labels from the root, and then rows are constructed to hold \n",
    "        all information contained within each subtree. \n",
    "        \n",
    "        Parameters: dod giving hierarchical representation of the indicators table. \n",
    "        Return value: lod representing indicators table\n",
    "        '''  \n",
    "    # code that converts dod into an lod \n",
    "    lod = []                    \n",
    "    for code in dod:            # nested loop that checks are paths in the tree\n",
    "        for year in dod[code]:    \n",
    "            rowdict = {}\n",
    "            rowdict[\"code\"] = code\n",
    "            rowdict[\"year\"] = year\n",
    "            for stat in dod[code][year]:\n",
    "                rowdict[stat] = dod[code][year][stat]\n",
    "            lod.append(rowdict)\n",
    "    return lod"
   ]
  },
  {
   "cell_type": "code",
   "execution_count": null,
   "metadata": {},
   "outputs": [],
   "source": [
    "import pandas as pd \n",
    "import json\n",
    "\n",
    "# read in json file of indicators data \n",
    "jsonInd = open(\"indicators.json\", \"r\")\n",
    "\n",
    "# load in json file as a Python dictionary\n",
    "indDict = json.load(jsonInd)\n",
    "jsonInd.close()\n",
    "\n",
    "indLod = dodToLod(indDict) # convert to lod\n",
    "\n",
    "indDf = pd.DataFrame(indLod)   # show we get the correct data frame if we used lod \n",
    "indDf[indDf[\"code\"] == \"USA\"].set_index([\"code\", \"year\"]).head(10)"
   ]
  },
  {
   "cell_type": "code",
   "execution_count": null,
   "metadata": {},
   "outputs": [],
   "source": [
    "# loading file as a json file,\n",
    "# and directly trying to (naively) read info into a data frame\n",
    "\n",
    "jsonInd = open(\"indicators.json\", \"r\")\n",
    "indDf = pd.read_json(jsonInd)\n",
    "jsonInd.close()\n",
    "\n",
    "indDf.head(10)"
   ]
  },
  {
   "cell_type": "code",
   "execution_count": null,
   "metadata": {},
   "outputs": [],
   "source": [
    "# increasing gdp of USA to account for inflation (value in 2018 dollars)\n",
    "# and writing updated tree to a new json file\n",
    "\n",
    "# read in file as dod\n",
    "jsonIncJson = open(\"indicators.json\", \"r\")\n",
    "dod = json.load(jsonIncJson)\n",
    "jsonIncJson.close()\n",
    "\n",
    "# nested loop (similar to above) updated  \n",
    "for code in dod:\n",
    "    for year in dod[code]:\n",
    "        # see if gdp data exists for this entry \n",
    "        if \"gdp\" in dod[code][year]:\n",
    "            # update according to inflation \n",
    "            inflatedGdp = round(dod[code][year][\"gdp\"]*pow(1.03, 2018-int(year)), 2)\n",
    "            dod[code][year][\"gdp-inflated\"] = inflatedGdp\n",
    "       \n",
    "# write contents of json file, and close the file \n",
    "updatedJsonInc = open(\"indicators-updated.json\", \"w\")\n",
    "json.dump(dod, updatedJsonInc)\n",
    "updatedJsonInc.close()"
   ]
  },
  {
   "cell_type": "code",
   "execution_count": null,
   "metadata": {},
   "outputs": [],
   "source": [
    "# original data for USA\n",
    "jsonIncJson = open(\"indicators.json\", \"r\")\n",
    "lodOriginal = dodToLod(json.load(jsonIncJson))\n",
    "dfOriginal = pd.DataFrame(lodOriginal)\n",
    "dfOriginal[dfOriginal[\"code\"] == \"USA\"][[\"year\", \"gdp\"]].set_index(\"year\").tail(20)"
   ]
  },
  {
   "cell_type": "code",
   "execution_count": null,
   "metadata": {},
   "outputs": [],
   "source": [
    "# ... just to verify the above operation worked correctly\n",
    "\n",
    "# updated info for USA with inflated gdp\n",
    "updatedJsonInc = open(\"indicators-updated.json\", \"r\")\n",
    "lodUpdated = dodToLod(json.load(updatedJsonInc))\n",
    "dfUpdated = pd.DataFrame(lodUpdated)\n",
    "dfUpdated[dfUpdated[\"code\"] == \"USA\"][[\"year\", \"gdp-inflated\"]].set_index(\"year\").tail(20)"
   ]
  },
  {
   "cell_type": "code",
   "execution_count": null,
   "metadata": {},
   "outputs": [],
   "source": []
  }
 ],
 "metadata": {
  "kernelspec": {
   "display_name": "Python 3",
   "language": "python",
   "name": "python3"
  },
  "language_info": {
   "codemirror_mode": {
    "name": "ipython",
    "version": 3
   },
   "file_extension": ".py",
   "mimetype": "text/x-python",
   "name": "python",
   "nbconvert_exporter": "python",
   "pygments_lexer": "ipython3",
   "version": "3.8.8"
  }
 },
 "nbformat": 4,
 "nbformat_minor": 2
}
